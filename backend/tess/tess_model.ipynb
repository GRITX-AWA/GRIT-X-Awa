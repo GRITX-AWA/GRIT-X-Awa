{
  "cells": [
    {
      "cell_type": "code",
      "execution_count": null,
      "id": "w1UIUsbqk0FT",
      "metadata": {
        "colab": {
          "base_uri": "https://localhost:8080/"
        },
        "id": "w1UIUsbqk0FT",
        "outputId": "8e5529c9-9899-4214-bc14-463183f1aa91"
      },
      "outputs": [
        {
          "name": "stdout",
          "output_type": "stream",
          "text": [
            "Requirement already satisfied: catboost in /usr/local/lib/python3.12/dist-packages (1.2.8)\n",
            "Requirement already satisfied: graphviz in /usr/local/lib/python3.12/dist-packages (from catboost) (0.21)\n",
            "Requirement already satisfied: matplotlib in /usr/local/lib/python3.12/dist-packages (from catboost) (3.10.0)\n",
            "Requirement already satisfied: numpy<3.0,>=1.16.0 in /usr/local/lib/python3.12/dist-packages (from catboost) (2.0.2)\n",
            "Requirement already satisfied: pandas>=0.24 in /usr/local/lib/python3.12/dist-packages (from catboost) (2.2.2)\n",
            "Requirement already satisfied: scipy in /usr/local/lib/python3.12/dist-packages (from catboost) (1.16.2)\n",
            "Requirement already satisfied: plotly in /usr/local/lib/python3.12/dist-packages (from catboost) (5.24.1)\n",
            "Requirement already satisfied: six in /usr/local/lib/python3.12/dist-packages (from catboost) (1.17.0)\n",
            "Requirement already satisfied: python-dateutil>=2.8.2 in /usr/local/lib/python3.12/dist-packages (from pandas>=0.24->catboost) (2.9.0.post0)\n",
            "Requirement already satisfied: pytz>=2020.1 in /usr/local/lib/python3.12/dist-packages (from pandas>=0.24->catboost) (2025.2)\n",
            "Requirement already satisfied: tzdata>=2022.7 in /usr/local/lib/python3.12/dist-packages (from pandas>=0.24->catboost) (2025.2)\n",
            "Requirement already satisfied: contourpy>=1.0.1 in /usr/local/lib/python3.12/dist-packages (from matplotlib->catboost) (1.3.3)\n",
            "Requirement already satisfied: cycler>=0.10 in /usr/local/lib/python3.12/dist-packages (from matplotlib->catboost) (0.12.1)\n",
            "Requirement already satisfied: fonttools>=4.22.0 in /usr/local/lib/python3.12/dist-packages (from matplotlib->catboost) (4.60.1)\n",
            "Requirement already satisfied: kiwisolver>=1.3.1 in /usr/local/lib/python3.12/dist-packages (from matplotlib->catboost) (1.4.9)\n",
            "Requirement already satisfied: packaging>=20.0 in /usr/local/lib/python3.12/dist-packages (from matplotlib->catboost) (25.0)\n",
            "Requirement already satisfied: pillow>=8 in /usr/local/lib/python3.12/dist-packages (from matplotlib->catboost) (11.3.0)\n",
            "Requirement already satisfied: pyparsing>=2.3.1 in /usr/local/lib/python3.12/dist-packages (from matplotlib->catboost) (3.2.5)\n",
            "Requirement already satisfied: tenacity>=6.2.0 in /usr/local/lib/python3.12/dist-packages (from plotly->catboost) (8.5.0)\n"
          ]
        }
      ],
      "source": [
        "%pip install catboost"
      ]
    },
    {
      "cell_type": "code",
      "execution_count": 2,
      "id": "7dca9d29",
      "metadata": {
        "id": "7dca9d29"
      },
      "outputs": [],
      "source": [
        "import pandas as pd\n",
        "import numpy as np\n",
        "from sklearn.preprocessing import StandardScaler, RobustScaler\n",
        "from sklearn.model_selection import train_test_split, StratifiedKFold\n",
        "from sklearn.preprocessing import LabelEncoder\n",
        "from sklearn.impute import KNNImputer\n",
        "from sklearn.metrics import accuracy_score, precision_score, recall_score, f1_score\n",
        "from catboost import CatBoostClassifier\n",
        "from xgboost import XGBClassifier\n",
        "from lightgbm import LGBMClassifier\n",
        "from scipy.stats.mstats import winsorize\n",
        "import warnings\n",
        "warnings.filterwarnings(\"ignore\")"
      ]
    },
    {
      "cell_type": "code",
      "execution_count": 3,
      "id": "0d4e8abb",
      "metadata": {
        "id": "0d4e8abb"
      },
      "outputs": [],
      "source": [
        "# --- load data ---\n",
        "data = pd.read_csv(\"/content/tess.csv\", comment=\"#\")"
      ]
    },
    {
      "cell_type": "code",
      "execution_count": 4,
      "id": "2940a841",
      "metadata": {
        "id": "2940a841"
      },
      "outputs": [],
      "source": [
        "# --- target & features ---\n",
        "target_col = \"tfopwg_disp\"\n",
        "feature_cols = [\n",
        "    \"ra\", \"dec\",\n",
        "    \"st_teff\", \"st_logg\", \"st_rad\", \"st_dist\",\n",
        "    \"st_pmra\", \"st_pmdec\", \"st_tmag\",\n",
        "    \"pl_orbper\", \"pl_rade\", \"pl_trandep\", \"pl_trandurh\", \"pl_eqt\", \"pl_insol\", 'pl_tranmid', 'pl_pnum'\n",
        "]"
      ]
    },
    {
      "cell_type": "code",
      "execution_count": 5,
      "id": "LjrkILyYJBYy",
      "metadata": {
        "id": "LjrkILyYJBYy"
      },
      "outputs": [],
      "source": [
        "for col in feature_cols:\n",
        "    data[col] = winsorize(data[col], limits=[0.01,0.01])"
      ]
    },
    {
      "cell_type": "code",
      "execution_count": 6,
      "id": "cd2c02c1",
      "metadata": {
        "id": "cd2c02c1"
      },
      "outputs": [],
      "source": [
        "df = data[feature_cols + [target_col]].copy()"
      ]
    },
    {
      "cell_type": "code",
      "execution_count": 7,
      "id": "f1579c6b",
      "metadata": {
        "id": "f1579c6b"
      },
      "outputs": [],
      "source": [
        "#df['st_teff_rad'] = df['st_teff'] * df['st_rad']       # Yıldızın radyatif proxy\n",
        "#df['logg_rad'] = df['st_logg'] * df['st_rad']         # Yoğunluk benzeri bilgi\n",
        "#df['dep_rade_ratio'] = df['pl_trandep'] / df['pl_rade']  # Transit yoğunluğu\n",
        "#df['dur_orb_ratio'] = df['pl_trandurh'] / df['pl_orbper']  # Transit süresi / periyot"
      ]
    },
    {
      "cell_type": "code",
      "execution_count": 8,
      "id": "VzEUROOaT3cQ",
      "metadata": {
        "colab": {
          "base_uri": "https://localhost:8080/"
        },
        "id": "VzEUROOaT3cQ",
        "outputId": "9c61d69b-de29-44d7-c8d0-c3df800397e5"
      },
      "outputs": [
        {
          "name": "stdout",
          "output_type": "stream",
          "text": [
            "\n",
            "[1] Engineering Transit-Based Features...\n"
          ]
        }
      ],
      "source": [
        "# ========================================\n",
        "# 1. TRANSIT-BASED FEATURES (MOST IMPORTANT!)\n",
        "# ========================================\n",
        "print(\"\\n[1] Engineering Transit-Based Features...\")\n",
        "\n",
        "def create_transit_features(df):\n",
        "    \"\"\"\n",
        "    Transit characteristics are THE key to identifying exoplanets\n",
        "    \"\"\"\n",
        "\n",
        "    # --- Transit Depth Ratio ---\n",
        "    # Deeper transits = larger planets or specific orbital geometry\n",
        "    # Formula: (R_planet / R_star)^2 approximates transit depth\n",
        "    if 'pl_trandep' in df.columns and 'st_rad' in df.columns and 'pl_rade' in df.columns:\n",
        "        # Transit depth in ppm (parts per million)\n",
        "        df['transit_depth_normalized'] = df['pl_trandep'] / 1e6\n",
        "\n",
        "        # Expected vs actual transit depth ratio\n",
        "        # Theoretical depth = (R_planet/R_star)^2\n",
        "        R_sun_to_earth = 109.2  # Sun radius in Earth radii\n",
        "        theoretical_depth = (df['pl_rade'] / (df['st_rad'] * R_sun_to_earth)) ** 2\n",
        "        df['transit_depth_anomaly'] = df['transit_depth_normalized'] / (theoretical_depth + 1e-10)\n",
        "\n",
        "    # --- Transit Duration Features ---\n",
        "    if 'pl_trandurh' in df.columns and 'pl_orbper' in df.columns:\n",
        "        # Transit duration as fraction of orbital period\n",
        "        df['transit_duration_fraction'] = df['pl_trandurh'] / (df['pl_orbper'] * 24)\n",
        "\n",
        "        # Short duration transits = grazing/edge-on orbits\n",
        "        df['is_short_transit'] = (df['pl_trandurh'] < 2).astype(int)\n",
        "\n",
        "        # Very long transits might be false positives (eclipsing binaries)\n",
        "        df['is_long_transit'] = (df['pl_trandurh'] > 10).astype(int)\n",
        "\n",
        "    # --- Transit Timing ---\n",
        "    if 'pl_tranmid' in df.columns and 'pl_orbper' in df.columns:\n",
        "        # Phase of the transit (useful for detecting variations)\n",
        "        df['transit_phase'] = (df['pl_tranmid'] % df['pl_orbper']) / df['pl_orbper']\n",
        "\n",
        "    return df"
      ]
    },
    {
      "cell_type": "code",
      "execution_count": 9,
      "id": "1hoTTOtYUBjK",
      "metadata": {
        "colab": {
          "base_uri": "https://localhost:8080/"
        },
        "id": "1hoTTOtYUBjK",
        "outputId": "05816c0e-b72b-4a19-cca9-92e49bd025c4"
      },
      "outputs": [
        {
          "name": "stdout",
          "output_type": "stream",
          "text": [
            "[2] Engineering Planetary Characteristic Features...\n"
          ]
        }
      ],
      "source": [
        "# ========================================\n",
        "# 2. PLANETARY CHARACTERISTICS\n",
        "# ========================================\n",
        "print(\"[2] Engineering Planetary Characteristic Features...\")\n",
        "\n",
        "def create_planetary_features(df):\n",
        "    \"\"\"\n",
        "    Features describing the planet's physical properties\n",
        "    \"\"\"\n",
        "\n",
        "    # --- Planet Size Categories ---\n",
        "    if 'pl_rade' in df.columns:\n",
        "        # Categorize by size (astronomically meaningful)\n",
        "        df['planet_size_category'] = pd.cut(\n",
        "            df['pl_rade'],\n",
        "            bins=[0, 1.5, 2.0, 4.0, 10.0, np.inf],\n",
        "            labels=['Earth-like', 'Super-Earth', 'Mini-Neptune', 'Neptune', 'Jupiter']\n",
        "        )\n",
        "\n",
        "        # Binary flags for important size ranges\n",
        "        df['is_earth_sized'] = ((df['pl_rade'] >= 0.5) & (df['pl_rade'] <= 1.5)).astype(int)\n",
        "        df['is_super_earth'] = ((df['pl_rade'] > 1.5) & (df['pl_rade'] <= 2.0)).astype(int)\n",
        "        df['is_neptune_sized'] = ((df['pl_rade'] > 4.0) & (df['pl_rade'] <= 10.0)).astype(int)\n",
        "        df['is_jupiter_sized'] = (df['pl_rade'] > 10.0).astype(int)\n",
        "\n",
        "    # --- Orbital Period Features ---\n",
        "    if 'pl_orbper' in df.columns:\n",
        "        # Log scale (orbital periods span orders of magnitude)\n",
        "        df['pl_orbper_log'] = np.log10(df['pl_orbper'] + 1)\n",
        "\n",
        "        # Hot Jupiters (very short periods)\n",
        "        df['is_hot_jupiter'] = ((df['pl_orbper'] < 10) & (df['pl_rade'] > 8)).astype(int)\n",
        "\n",
        "        # Habitable zone indicator (rough estimate: 200-500 days for Sun-like stars)\n",
        "        df['in_habitable_zone_period'] = ((df['pl_orbper'] >= 200) & (df['pl_orbper'] <= 500)).astype(int)\n",
        "\n",
        "    # --- Insolation (Stellar Radiation) ---\n",
        "    if 'pl_insol' in df.columns:\n",
        "        # Log scale for insolation\n",
        "        df['pl_insol_log'] = np.log10(df['pl_insol'] + 1)\n",
        "\n",
        "        # Earth-like insolation (0.5 to 2.0 Earth flux)\n",
        "        df['earth_like_insolation'] = ((df['pl_insol'] >= 0.5) & (df['pl_insol'] <= 2.0)).astype(int)\n",
        "\n",
        "        # Hot planets (high insolation)\n",
        "        df['is_hot_planet'] = (df['pl_insol'] > 10).astype(int)\n",
        "\n",
        "    # --- Equilibrium Temperature ---\n",
        "    if 'pl_eqt' in df.columns:\n",
        "        df['pl_eqt_celsius'] = df['pl_eqt'] - 273.15  # Convert to Celsius\n",
        "\n",
        "        # Habitable temperature range (0-100°C for liquid water)\n",
        "        df['habitable_temperature'] = ((df['pl_eqt_celsius'] >= 0) & (df['pl_eqt_celsius'] <= 100)).astype(int)\n",
        "\n",
        "        # Temperature categories\n",
        "        df['temp_category'] = pd.cut(\n",
        "            df['pl_eqt'],\n",
        "            bins=[0, 273, 373, 500, 1000, np.inf],\n",
        "            labels=['Frozen', 'Temperate', 'Warm', 'Hot', 'Very Hot']\n",
        "        )\n",
        "\n",
        "    return df\n"
      ]
    },
    {
      "cell_type": "code",
      "execution_count": 10,
      "id": "u9kn5cAFUMII",
      "metadata": {
        "colab": {
          "base_uri": "https://localhost:8080/"
        },
        "id": "u9kn5cAFUMII",
        "outputId": "8360f881-707e-4b8f-d6d2-37c6de66783f"
      },
      "outputs": [
        {
          "name": "stdout",
          "output_type": "stream",
          "text": [
            "[3] Engineering Stellar Property Features...\n"
          ]
        }
      ],
      "source": [
        "# ========================================\n",
        "# 3. STELLAR PROPERTIES\n",
        "# ========================================\n",
        "print(\"[3] Engineering Stellar Property Features...\")\n",
        "\n",
        "def create_stellar_features(df):\n",
        "    \"\"\"\n",
        "    Host star characteristics affect detectability and planet properties\n",
        "    \"\"\"\n",
        "\n",
        "    # --- Stellar Temperature ---\n",
        "    if 'st_teff' in df.columns:\n",
        "        # Log scale\n",
        "        df['st_teff_log'] = np.log10(df['st_teff'] + 1)\n",
        "\n",
        "        # Stellar type classification (simplified)\n",
        "        df['stellar_type'] = pd.cut(\n",
        "            df['st_teff'],\n",
        "            bins=[0, 3700, 5200, 6000, 7500, np.inf],\n",
        "            labels=['M-dwarf', 'K-type', 'G-type', 'F-type', 'A-type+']\n",
        "        )\n",
        "\n",
        "        # Sun-like stars (G-type: 5200-6000K)\n",
        "        df['is_sun_like'] = ((df['st_teff'] >= 5200) & (df['st_teff'] <= 6000)).astype(int)\n",
        "\n",
        "        # Cool stars (M-dwarfs are common exoplanet hosts)\n",
        "        df['is_m_dwarf'] = (df['st_teff'] < 3700).astype(int)\n",
        "\n",
        "    # --- Stellar Radius ---\n",
        "    if 'st_rad' in df.columns:\n",
        "        # Log scale\n",
        "        df['st_rad_log'] = np.log10(df['st_rad'] + 1)\n",
        "\n",
        "        # Main sequence stars (typical radius 0.1 to 2.0 solar radii)\n",
        "        df['is_main_sequence'] = ((df['st_rad'] >= 0.1) & (df['st_rad'] <= 2.0)).astype(int)\n",
        "\n",
        "        # Giant stars\n",
        "        df['is_giant_star'] = (df['st_rad'] > 2.0).astype(int)\n",
        "\n",
        "    # --- Surface Gravity ---\n",
        "    if 'st_logg' in df.columns:\n",
        "        # log(g) is already in log scale, but we can categorize\n",
        "        # Lower log(g) = evolved stars (giants/subgiants)\n",
        "        df['is_evolved_star'] = (df['st_logg'] < 4.0).astype(int)\n",
        "        df['is_main_sequence_logg'] = ((df['st_logg'] >= 4.0) & (df['st_logg'] <= 4.5)).astype(int)\n",
        "\n",
        "    # --- Distance ---\n",
        "    if 'st_dist' in df.columns:\n",
        "        # Log scale (distances vary greatly)\n",
        "        df['st_dist_log'] = np.log10(df['st_dist'] + 1)\n",
        "\n",
        "        # Nearby stars (better data quality)\n",
        "        df['is_nearby'] = (df['st_dist'] < 50).astype(int)  # within 50 parsecs\n",
        "\n",
        "        # Distance categories\n",
        "        df['distance_category'] = pd.cut(\n",
        "            df['st_dist'],\n",
        "            bins=[0, 50, 100, 200, 500, np.inf],\n",
        "            labels=['Very Close', 'Close', 'Medium', 'Far', 'Very Far']\n",
        "        )\n",
        "\n",
        "    # --- TESS Magnitude (Brightness) ---\n",
        "    if 'st_tmag' in df.columns:\n",
        "        # Brighter stars (lower magnitude) = better signal\n",
        "        df['is_bright_star'] = (df['st_tmag'] < 10).astype(int)\n",
        "        df['is_faint_star'] = (df['st_tmag'] > 14).astype(int)\n",
        "\n",
        "    return df\n"
      ]
    },
    {
      "cell_type": "code",
      "execution_count": 11,
      "id": "QyjiX7AfURU_",
      "metadata": {
        "colab": {
          "base_uri": "https://localhost:8080/"
        },
        "id": "QyjiX7AfURU_",
        "outputId": "020487dc-0ff7-4c75-cf02-7f67c55b771d"
      },
      "outputs": [
        {
          "name": "stdout",
          "output_type": "stream",
          "text": [
            "[4] Engineering Combined Features...\n"
          ]
        }
      ],
      "source": [
        "# ========================================\n",
        "# 4. COMBINED PLANETARY-STELLAR FEATURES\n",
        "# ========================================\n",
        "print(\"[4] Engineering Combined Features...\")\n",
        "\n",
        "def create_combined_features(df):\n",
        "    \"\"\"\n",
        "    Ratios and interactions between planetary and stellar properties\n",
        "    These are VERY important for exoplanet detection!\n",
        "    \"\"\"\n",
        "\n",
        "    # --- Planet-Star Size Ratio ---\n",
        "    if 'pl_rade' in df.columns and 'st_rad' in df.columns:\n",
        "        R_sun_to_earth = 109.2\n",
        "        df['planet_star_radius_ratio'] = df['pl_rade'] / (df['st_rad'] * R_sun_to_earth)\n",
        "\n",
        "        # Easier to detect large planets around small stars\n",
        "        df['high_contrast_system'] = (df['planet_star_radius_ratio'] > 0.05).astype(int)\n",
        "\n",
        "    # --- Semi-major Axis (Orbital Distance) ---\n",
        "    if 'pl_orbper' in df.columns and 'st_rad' in df.columns:\n",
        "        # Kepler's Third Law (simplified): a ∝ P^(2/3)\n",
        "        # For a Sun-mass star: a (AU) ≈ (P_days / 365.25)^(2/3)\n",
        "        df['semi_major_axis_approx'] = (df['pl_orbper'] / 365.25) ** (2/3)\n",
        "\n",
        "        # Planet-star distance in stellar radii\n",
        "        AU_to_solar_radii = 215  # 1 AU ≈ 215 solar radii\n",
        "        df['distance_in_stellar_radii'] = df['semi_major_axis_approx'] * AU_to_solar_radii / df['st_rad']\n",
        "\n",
        "    # --- Impact Parameter (Transit Geometry) ---\n",
        "    if 'pl_trandurh' in df.columns and 'pl_orbper' in df.columns and 'st_rad' in df.columns:\n",
        "        # Estimate impact parameter from transit duration\n",
        "        # b = sqrt(1 - (T_dur / T_dur_max)^2)\n",
        "        # T_dur_max = (P/π) * (R_star/a) for central transit\n",
        "\n",
        "        # This is a simplified approximation\n",
        "        df['transit_duration_ratio'] = df['pl_trandurh'] / (df['pl_orbper'] * 24 / np.pi)\n",
        "\n",
        "        # Grazing transits (high impact parameter)\n",
        "        df['is_grazing_transit'] = (df['transit_duration_ratio'] < 0.1).astype(int)\n",
        "\n",
        "    # --- Signal-to-Noise Proxy ---\n",
        "    if 'pl_trandep' in df.columns and 'st_tmag' in df.columns:\n",
        "        # Deeper transits on brighter stars = better detection\n",
        "        # Lower magnitude = brighter star\n",
        "        df['detection_quality'] = df['pl_trandep'] / (10 ** (df['st_tmag'] / 5))\n",
        "\n",
        "        # High quality detections\n",
        "        df['high_snr_detection'] = (df['detection_quality'] > df['detection_quality'].quantile(0.75)).astype(int)\n",
        "\n",
        "    # --- Density Proxy ---\n",
        "    if 'pl_rade' in df.columns and 'pl_orbper' in df.columns:\n",
        "        # Can't calculate exact density without mass, but we can approximate\n",
        "        # Rocky planets have higher density than gas giants\n",
        "        # This is a rough proxy: smaller radius + shorter period often = rocky\n",
        "        df['density_proxy'] = 1 / (df['pl_rade'] ** 2 * df['pl_orbper'] ** 0.5)\n",
        "\n",
        "        # Likely rocky planet\n",
        "        df['likely_rocky'] = ((df['pl_rade'] < 2.0) & (df['density_proxy'] > df['density_proxy'].median())).astype(int)\n",
        "\n",
        "    return df\n"
      ]
    },
    {
      "cell_type": "code",
      "execution_count": 12,
      "id": "U20nq-l5UVAG",
      "metadata": {
        "colab": {
          "base_uri": "https://localhost:8080/"
        },
        "id": "U20nq-l5UVAG",
        "outputId": "d8273967-360c-4292-d4dc-d527c7919591"
      },
      "outputs": [
        {
          "name": "stdout",
          "output_type": "stream",
          "text": [
            "[5] Engineering Positional Features...\n"
          ]
        }
      ],
      "source": [
        "# ========================================\n",
        "# 5. POSITIONAL AND MOTION FEATURES\n",
        "# ========================================\n",
        "print(\"[5] Engineering Positional Features...\")\n",
        "\n",
        "def create_positional_features(df):\n",
        "    \"\"\"\n",
        "    Spatial location and proper motion\n",
        "    \"\"\"\n",
        "\n",
        "    # --- Galactic Coordinates (if needed) ---\n",
        "    if 'ra' in df.columns and 'dec' in df.columns:\n",
        "        # Convert RA/Dec to radians for calculations\n",
        "        ra_rad = np.deg2rad(df['ra'])\n",
        "        dec_rad = np.deg2rad(df['dec'])\n",
        "\n",
        "        # Cartesian coordinates on unit sphere\n",
        "        df['pos_x'] = np.cos(dec_rad) * np.cos(ra_rad)\n",
        "        df['pos_y'] = np.cos(dec_rad) * np.sin(ra_rad)\n",
        "        df['pos_z'] = np.sin(dec_rad)\n",
        "\n",
        "        # Distance from galactic plane (simplified)\n",
        "        df['abs_dec'] = np.abs(df['dec'])\n",
        "\n",
        "    # --- Proper Motion ---\n",
        "    if 'st_pmra' in df.columns and 'st_pmdec' in df.columns:\n",
        "        # Total proper motion\n",
        "        df['proper_motion_total'] = np.sqrt(df['st_pmra']**2 + df['st_pmdec']**2)\n",
        "\n",
        "        # High proper motion = nearby stars\n",
        "        df['high_proper_motion'] = (df['proper_motion_total'] > 50).astype(int)\n",
        "\n",
        "    return df\n"
      ]
    },
    {
      "cell_type": "code",
      "execution_count": 13,
      "id": "6824135d",
      "metadata": {
        "colab": {
          "base_uri": "https://localhost:8080/"
        },
        "id": "6824135d",
        "outputId": "81e427b1-4425-4077-a1ea-50d62b2a9055"
      },
      "outputs": [
        {
          "name": "stdout",
          "output_type": "stream",
          "text": [
            "[6] Engineering False Positive Detection Features...\n"
          ]
        }
      ],
      "source": [
        "# ========================================\n",
        "# 6. FALSE POSITIVE INDICATORS\n",
        "# ========================================\n",
        "print(\"[6] Engineering False Positive Detection Features...\")\n",
        "\n",
        "def create_false_positive_features(df):\n",
        "    \"\"\"\n",
        "    Features that help identify false positives (eclipsing binaries, etc.)\n",
        "    \"\"\"\n",
        "\n",
        "    # --- Eclipsing Binary Indicators ---\n",
        "    # Deep transits + long duration = possible binary\n",
        "    if 'pl_trandep' in df.columns and 'pl_trandurh' in df.columns:\n",
        "        df['deep_long_transit'] = ((df['pl_trandep'] > 10000) & (df['pl_trandurh'] > 8)).astype(int)\n",
        "\n",
        "    # --- V-shaped vs U-shaped transits ---\n",
        "    # (This would require light curve data, but we can use duration/depth ratio)\n",
        "    if 'pl_trandurh' in df.columns and 'pl_trandep' in df.columns:\n",
        "        df['transit_shape_proxy'] = df['pl_trandurh'] / np.sqrt(df['pl_trandep'] + 1)\n",
        "\n",
        "        # V-shaped transits might be grazing binaries\n",
        "        df['possible_binary'] = (df['transit_shape_proxy'] < df['transit_shape_proxy'].quantile(0.1)).astype(int)\n",
        "\n",
        "    # --- Odd-even transit depth variations ---\n",
        "    # (Would need multiple transit observations, but can flag based on uncertainty)\n",
        "    if 'pl_trandeperr1' in df.columns and 'pl_trandep' in df.columns:\n",
        "        df['transit_depth_uncertainty_ratio'] = df['pl_trandeperr1'] / (df['pl_trandep'] + 1)\n",
        "\n",
        "        # High uncertainty = less reliable detection\n",
        "        df['uncertain_detection'] = (df['transit_depth_uncertainty_ratio'] > 0.3).astype(int)\n",
        "\n",
        "    return df"
      ]
    },
    {
      "cell_type": "code",
      "execution_count": 14,
      "id": "jn_Srk1UUcpU",
      "metadata": {
        "colab": {
          "base_uri": "https://localhost:8080/"
        },
        "id": "jn_Srk1UUcpU",
        "outputId": "91df3042-d72a-4533-a4a8-d4408564f030"
      },
      "outputs": [
        {
          "name": "stdout",
          "output_type": "stream",
          "text": [
            "[7] Creating Statistical Features...\n"
          ]
        }
      ],
      "source": [
        "# ========================================\n",
        "# 7. STATISTICAL AGGREGATIONS\n",
        "# ========================================\n",
        "print(\"[7] Creating Statistical Features...\")\n",
        "\n",
        "def create_statistical_features(df):\n",
        "    \"\"\"\n",
        "    Ratios of uncertainties, derived quantities\n",
        "    \"\"\"\n",
        "\n",
        "    # --- Measurement Quality Indicators ---\n",
        "    # Lower uncertainty = better quality\n",
        "    uncertainty_cols = [col for col in df.columns if 'err1' in col or 'err2' in col]\n",
        "\n",
        "    if 'pl_orbpererr1' in df.columns and 'pl_orbper' in df.columns:\n",
        "        df['period_uncertainty_ratio'] = df['pl_orbpererr1'] / (df['pl_orbper'] + 1e-10)\n",
        "\n",
        "    if 'pl_radeerr1' in df.columns and 'pl_rade' in df.columns:\n",
        "        df['radius_uncertainty_ratio'] = df['pl_radeerr1'] / (df['pl_rade'] + 1e-10)\n",
        "\n",
        "    if 'st_raderr1' in df.columns and 'st_rad' in df.columns:\n",
        "        df['stellar_radius_uncertainty_ratio'] = df['st_raderr1'] / (df['st_rad'] + 1e-10)\n",
        "\n",
        "    # Average uncertainty score (lower = better)\n",
        "    uncertainty_ratios = [\n",
        "        df.get('period_uncertainty_ratio', 0),\n",
        "        df.get('radius_uncertainty_ratio', 0),\n",
        "        df.get('stellar_radius_uncertainty_ratio', 0)\n",
        "    ]\n",
        "    df['average_measurement_quality'] = np.mean([u for u in uncertainty_ratios if isinstance(u, pd.Series)], axis=0)\n",
        "\n",
        "    return df"
      ]
    },
    {
      "cell_type": "code",
      "execution_count": 15,
      "id": "d2hK8w5fUhdF",
      "metadata": {
        "id": "d2hK8w5fUhdF"
      },
      "outputs": [],
      "source": [
        "# ========================================\n",
        "# MAIN FEATURE ENGINEERING PIPELINE\n",
        "# ========================================\n",
        "\n",
        "def engineer_all_features(df):\n",
        "    \"\"\"\n",
        "    Apply all feature engineering steps\n",
        "    \"\"\"\n",
        "    print(\"\\n\" + \"=\"*70)\n",
        "    print(\"APPLYING ALL FEATURE ENGINEERING STEPS\")\n",
        "    print(\"=\"*70)\n",
        "\n",
        "    original_features = df.shape[1]\n",
        "\n",
        "    # Apply all transformations\n",
        "    df = create_transit_features(df)\n",
        "    df = create_planetary_features(df)\n",
        "    df = create_stellar_features(df)\n",
        "    df = create_combined_features(df)\n",
        "    df = create_positional_features(df)\n",
        "    df = create_false_positive_features(df)\n",
        "    df = create_statistical_features(df)\n",
        "\n",
        "    new_features = df.shape[1] - original_features\n",
        "\n",
        "    print(f\"\\n Feature Engineering Complete!\")\n",
        "    print(f\"   Original Features: {original_features}\")\n",
        "    print(f\"   New Features Created: {new_features}\")\n",
        "    print(f\"   Total Features: {df.shape[1]}\")\n",
        "\n",
        "    return df\n",
        "\n"
      ]
    },
    {
      "cell_type": "code",
      "execution_count": 16,
      "id": "tTvNO4rZUoKm",
      "metadata": {
        "id": "tTvNO4rZUoKm"
      },
      "outputs": [],
      "source": [
        "# ========================================\n",
        "# FEATURE IMPORTANCE ANALYSIS\n",
        "# ========================================\n",
        "\n",
        "def analyze_feature_importance(df, target_col='tfopwg_disp'):\n",
        "    \"\"\"\n",
        "    Identify most important features for exoplanet detection\n",
        "    \"\"\"\n",
        "    from sklearn.ensemble import RandomForestClassifier\n",
        "    from sklearn.preprocessing import LabelEncoder\n",
        "\n",
        "    print(\"\\n\" + \"=\"*70)\n",
        "    print(\"FEATURE IMPORTANCE ANALYSIS\")\n",
        "    print(\"=\"*70)\n",
        "\n",
        "    # Prepare data\n",
        "    # Remove non-numeric and identifier columns\n",
        "    id_cols = ['toi', 'toipfx', 'tid', 'ctoi_alias', 'toi_created', 'rowupdate']\n",
        "    numeric_df = df.select_dtypes(include=[np.number]).drop(columns=id_cols, errors='ignore')\n",
        "\n",
        "    # Handle target variable\n",
        "    if target_col in df.columns:\n",
        "        le = LabelEncoder()\n",
        "        y = le.fit_transform(df[target_col].fillna('Unknown'))\n",
        "        X = numeric_df.drop(columns=[target_col], errors='ignore')\n",
        "    else:\n",
        "        print(\" Target column not found. Skipping importance analysis.\")\n",
        "        return\n",
        "\n",
        "    # Fill missing values\n",
        "    X = X.fillna(X.median())\n",
        "\n",
        "    # Train Random Forest for feature importance\n",
        "    rf = RandomForestClassifier(n_estimators=100, random_state=42, n_jobs=-1)\n",
        "    rf.fit(X, y)\n",
        "\n",
        "    # Get feature importances\n",
        "    importance_df = pd.DataFrame({\n",
        "        'feature': X.columns,\n",
        "        'importance': rf.feature_importances_\n",
        "    }).sort_values('importance', ascending=False)\n",
        "\n",
        "    print(\"\\n TOP 20 MOST IMPORTANT FEATURES:\")\n",
        "    print(\"-\" * 70)\n",
        "    for idx, row in importance_df.head(20).iterrows():\n",
        "        print(f\"  {row['feature']:<40} {row['importance']:.4f}\")\n",
        "\n",
        "    return importance_df\n"
      ]
    },
    {
      "cell_type": "code",
      "execution_count": 17,
      "id": "vqL0AL2pUtL7",
      "metadata": {
        "colab": {
          "base_uri": "https://localhost:8080/"
        },
        "id": "vqL0AL2pUtL7",
        "outputId": "e38c4178-0197-47dc-d218-94010b3cabed"
      },
      "outputs": [
        {
          "name": "stdout",
          "output_type": "stream",
          "text": [
            "\n",
            "======================================================================\n",
            "APPLYING ALL FEATURE ENGINEERING STEPS\n",
            "======================================================================\n",
            "\n",
            " Feature Engineering Complete!\n",
            "   Original Features: 18\n",
            "   New Features Created: 54\n",
            "   Total Features: 72\n",
            "\n",
            "======================================================================\n",
            "FEATURE IMPORTANCE ANALYSIS\n",
            "======================================================================\n",
            "\n",
            " TOP 20 MOST IMPORTANT FEATURES:\n",
            "----------------------------------------------------------------------\n",
            "  st_tmag                                  0.0525\n",
            "  pl_tranmid                               0.0405\n",
            "  detection_quality                        0.0387\n",
            "  st_dist_log                              0.0320\n",
            "  st_dist                                  0.0317\n",
            "  transit_depth_anomaly                    0.0273\n",
            "  pl_rade                                  0.0264\n",
            "  pl_insol                                 0.0263\n",
            "  proper_motion_total                      0.0248\n",
            "  abs_dec                                  0.0247\n",
            "  pl_eqt_celsius                           0.0247\n",
            "  pl_trandurh                              0.0245\n",
            "  pos_y                                    0.0244\n",
            "  pl_eqt                                   0.0242\n",
            "  pl_trandep                               0.0242\n",
            "  transit_depth_normalized                 0.0242\n",
            "  pos_x                                    0.0240\n",
            "  transit_duration_fraction                0.0240\n",
            "  transit_shape_proxy                      0.0239\n",
            "  planet_star_radius_ratio                 0.0239\n",
            "\n",
            "======================================================================\n",
            "SAMPLE OF NEW FEATURES:\n",
            "======================================================================\n",
            "Empty DataFrame\n",
            "Columns: []\n",
            "Index: [0, 1, 2, 3, 4]\n"
          ]
        }
      ],
      "source": [
        "if __name__ == \"__main__\":\n",
        "    # Apply feature engineering\n",
        "    df_engineered = engineer_all_features(df)\n",
        "\n",
        "    # Analyze feature importance\n",
        "    feature_importance = analyze_feature_importance(df_engineered)\n",
        "\n",
        "    # Display sample of new features\n",
        "    print(\"\\n\" + \"=\"*70)\n",
        "    print(\"SAMPLE OF NEW FEATURES:\")\n",
        "    print(\"=\"*70)\n",
        "    new_feature_cols = [col for col in df_engineered.columns if col not in df.columns]\n",
        "    print(df_engineered[new_feature_cols[:10]].head())"
      ]
    },
    {
      "cell_type": "code",
      "execution_count": 18,
      "id": "XgFZ2r0cV8j9",
      "metadata": {
        "id": "XgFZ2r0cV8j9"
      },
      "outputs": [],
      "source": [
        "# Select numerical columns for imputation\n",
        "numerical_cols = df_engineered.select_dtypes(include=np.number).columns.tolist()\n",
        "numerical_df = df_engineered[numerical_cols].copy()\n",
        "\n",
        "# Select categorical columns for encoding\n",
        "categorical_cols = df_engineered.select_dtypes(exclude=np.number).columns.tolist()\n",
        "\n",
        "# One-hot encode categorical columns\n",
        "df_encoded = pd.get_dummies(df_engineered, columns=categorical_cols, dummy_na=False)\n",
        "\n",
        "# Select only the numerical columns (including the newly created dummy variables) for imputation\n",
        "numerical_cols_encoded = df_encoded.select_dtypes(include=np.number).columns.tolist()\n",
        "numerical_df_encoded = df_encoded[numerical_cols_encoded].copy()\n",
        "\n",
        "# Drop the target column before imputation\n",
        "if target_col in numerical_df_encoded.columns:\n",
        "    numerical_df_encoded = numerical_df_encoded.drop(columns=[target_col])\n",
        "\n",
        "# Impute missing values using KNNImputer\n",
        "imputer = KNNImputer(n_neighbors=5)\n",
        "X = imputer.fit_transform(numerical_df_encoded)"
      ]
    },
    {
      "cell_type": "code",
      "execution_count": 19,
      "id": "b1e06e4b",
      "metadata": {
        "id": "b1e06e4b"
      },
      "outputs": [],
      "source": [
        "le = LabelEncoder()\n",
        "y = le.fit_transform(df[target_col])"
      ]
    },
    {
      "cell_type": "code",
      "execution_count": 20,
      "id": "hAG8v6KUw_Gw",
      "metadata": {
        "colab": {
          "base_uri": "https://localhost:8080/"
        },
        "id": "hAG8v6KUw_Gw",
        "outputId": "eed2574f-4d80-4f7b-bc6d-eddb9ac5db78"
      },
      "outputs": [
        {
          "name": "stdout",
          "output_type": "stream",
          "text": [
            "Shape of X before oversampling: (7668, 66)\n",
            "Shape of y before oversampling: (7668,)\n",
            "Shape of X after oversampling: (28050, 66)\n",
            "Shape of y after oversampling: (28050,)\n"
          ]
        }
      ],
      "source": [
        "from imblearn.over_sampling import SMOTE\n",
        "\n",
        "smote = SMOTE(random_state=42)\n",
        "X_resampled, y_resampled = smote.fit_resample(X, y)\n",
        "\n",
        "print(f\"Shape of X before oversampling: {X.shape}\")\n",
        "print(f\"Shape of y before oversampling: {y.shape}\")\n",
        "print(f\"Shape of X after oversampling: {X_resampled.shape}\")\n",
        "print(f\"Shape of y after oversampling: {y_resampled.shape}\")"
      ]
    },
    {
      "cell_type": "code",
      "execution_count": 21,
      "id": "54e1f61a",
      "metadata": {
        "colab": {
          "base_uri": "https://localhost:8080/"
        },
        "id": "54e1f61a",
        "outputId": "c66a3e58-6efe-4f0a-d9a2-afcaddc48213"
      },
      "outputs": [
        {
          "name": "stdout",
          "output_type": "stream",
          "text": [
            "Train set size: 16830\n",
            "Validation set size: 5610\n",
            "Test set size: 5610\n"
          ]
        }
      ],
      "source": [
        "# --- train/val/test split ---\n",
        "X_train, X_temp, y_train, y_temp = train_test_split(\n",
        "    X_resampled, y_resampled, test_size=0.4, stratify=y_resampled, random_state=42\n",
        ")\n",
        "X_val, X_test, y_val, y_test = train_test_split(\n",
        "    X_temp, y_temp, test_size=0.5, stratify=y_temp, random_state=42\n",
        ")\n",
        "\n",
        "print(f\"Train set size: {X_train.shape[0]}\")\n",
        "print(f\"Validation set size: {X_val.shape[0]}\")\n",
        "print(f\"Test set size: {X_test.shape[0]}\")"
      ]
    },
    {
      "cell_type": "code",
      "execution_count": 22,
      "id": "28574ba7",
      "metadata": {
        "id": "28574ba7"
      },
      "outputs": [],
      "source": [
        "cat_model = CatBoostClassifier(\n",
        "    iterations=992,\n",
        "    learning_rate=0.1477,\n",
        "    depth=5,\n",
        "    l2_leaf_reg=2.42,\n",
        "    verbose=0,\n",
        "    random_seed=42\n",
        ")\n",
        "xgb_model = XGBClassifier(\n",
        "    n_estimators=654,\n",
        "    learning_rate=0.0582,\n",
        "    max_depth=7,\n",
        "    subsample=0.8595,\n",
        "    colsample_bytree=0.9961,\n",
        "    use_label_encoder=False,\n",
        "    eval_metric=\"mlogloss\",\n",
        "    random_state=42\n",
        ")\n",
        "lgbm_model = LGBMClassifier(\n",
        "    n_estimators=536,\n",
        "    learning_rate=0.01604,\n",
        "    max_depth=10,\n",
        "    num_leaves=84,\n",
        "    min_data_in_leaf=100,\n",
        "    subsample=0.9998,\n",
        "    colsample_bytree=0.6115,\n",
        "    random_state=42,\n",
        "    verbosity=-1\n",
        ")"
      ]
    },
    {
      "cell_type": "code",
      "execution_count": 23,
      "id": "c8b0547f",
      "metadata": {
        "colab": {
          "base_uri": "https://localhost:8080/",
          "height": 114
        },
        "id": "c8b0547f",
        "outputId": "066ae969-4500-401d-b89d-23ee266337c3"
      },
      "outputs": [
        {
          "data": {
            "text/html": [
              "<style>#sk-container-id-1 {\n",
              "  /* Definition of color scheme common for light and dark mode */\n",
              "  --sklearn-color-text: #000;\n",
              "  --sklearn-color-text-muted: #666;\n",
              "  --sklearn-color-line: gray;\n",
              "  /* Definition of color scheme for unfitted estimators */\n",
              "  --sklearn-color-unfitted-level-0: #fff5e6;\n",
              "  --sklearn-color-unfitted-level-1: #f6e4d2;\n",
              "  --sklearn-color-unfitted-level-2: #ffe0b3;\n",
              "  --sklearn-color-unfitted-level-3: chocolate;\n",
              "  /* Definition of color scheme for fitted estimators */\n",
              "  --sklearn-color-fitted-level-0: #f0f8ff;\n",
              "  --sklearn-color-fitted-level-1: #d4ebff;\n",
              "  --sklearn-color-fitted-level-2: #b3dbfd;\n",
              "  --sklearn-color-fitted-level-3: cornflowerblue;\n",
              "\n",
              "  /* Specific color for light theme */\n",
              "  --sklearn-color-text-on-default-background: var(--sg-text-color, var(--theme-code-foreground, var(--jp-content-font-color1, black)));\n",
              "  --sklearn-color-background: var(--sg-background-color, var(--theme-background, var(--jp-layout-color0, white)));\n",
              "  --sklearn-color-border-box: var(--sg-text-color, var(--theme-code-foreground, var(--jp-content-font-color1, black)));\n",
              "  --sklearn-color-icon: #696969;\n",
              "\n",
              "  @media (prefers-color-scheme: dark) {\n",
              "    /* Redefinition of color scheme for dark theme */\n",
              "    --sklearn-color-text-on-default-background: var(--sg-text-color, var(--theme-code-foreground, var(--jp-content-font-color1, white)));\n",
              "    --sklearn-color-background: var(--sg-background-color, var(--theme-background, var(--jp-layout-color0, #111)));\n",
              "    --sklearn-color-border-box: var(--sg-text-color, var(--theme-code-foreground, var(--jp-content-font-color1, white)));\n",
              "    --sklearn-color-icon: #878787;\n",
              "  }\n",
              "}\n",
              "\n",
              "#sk-container-id-1 {\n",
              "  color: var(--sklearn-color-text);\n",
              "}\n",
              "\n",
              "#sk-container-id-1 pre {\n",
              "  padding: 0;\n",
              "}\n",
              "\n",
              "#sk-container-id-1 input.sk-hidden--visually {\n",
              "  border: 0;\n",
              "  clip: rect(1px 1px 1px 1px);\n",
              "  clip: rect(1px, 1px, 1px, 1px);\n",
              "  height: 1px;\n",
              "  margin: -1px;\n",
              "  overflow: hidden;\n",
              "  padding: 0;\n",
              "  position: absolute;\n",
              "  width: 1px;\n",
              "}\n",
              "\n",
              "#sk-container-id-1 div.sk-dashed-wrapped {\n",
              "  border: 1px dashed var(--sklearn-color-line);\n",
              "  margin: 0 0.4em 0.5em 0.4em;\n",
              "  box-sizing: border-box;\n",
              "  padding-bottom: 0.4em;\n",
              "  background-color: var(--sklearn-color-background);\n",
              "}\n",
              "\n",
              "#sk-container-id-1 div.sk-container {\n",
              "  /* jupyter's `normalize.less` sets `[hidden] { display: none; }`\n",
              "     but bootstrap.min.css set `[hidden] { display: none !important; }`\n",
              "     so we also need the `!important` here to be able to override the\n",
              "     default hidden behavior on the sphinx rendered scikit-learn.org.\n",
              "     See: https://github.com/scikit-learn/scikit-learn/issues/21755 */\n",
              "  display: inline-block !important;\n",
              "  position: relative;\n",
              "}\n",
              "\n",
              "#sk-container-id-1 div.sk-text-repr-fallback {\n",
              "  display: none;\n",
              "}\n",
              "\n",
              "div.sk-parallel-item,\n",
              "div.sk-serial,\n",
              "div.sk-item {\n",
              "  /* draw centered vertical line to link estimators */\n",
              "  background-image: linear-gradient(var(--sklearn-color-text-on-default-background), var(--sklearn-color-text-on-default-background));\n",
              "  background-size: 2px 100%;\n",
              "  background-repeat: no-repeat;\n",
              "  background-position: center center;\n",
              "}\n",
              "\n",
              "/* Parallel-specific style estimator block */\n",
              "\n",
              "#sk-container-id-1 div.sk-parallel-item::after {\n",
              "  content: \"\";\n",
              "  width: 100%;\n",
              "  border-bottom: 2px solid var(--sklearn-color-text-on-default-background);\n",
              "  flex-grow: 1;\n",
              "}\n",
              "\n",
              "#sk-container-id-1 div.sk-parallel {\n",
              "  display: flex;\n",
              "  align-items: stretch;\n",
              "  justify-content: center;\n",
              "  background-color: var(--sklearn-color-background);\n",
              "  position: relative;\n",
              "}\n",
              "\n",
              "#sk-container-id-1 div.sk-parallel-item {\n",
              "  display: flex;\n",
              "  flex-direction: column;\n",
              "}\n",
              "\n",
              "#sk-container-id-1 div.sk-parallel-item:first-child::after {\n",
              "  align-self: flex-end;\n",
              "  width: 50%;\n",
              "}\n",
              "\n",
              "#sk-container-id-1 div.sk-parallel-item:last-child::after {\n",
              "  align-self: flex-start;\n",
              "  width: 50%;\n",
              "}\n",
              "\n",
              "#sk-container-id-1 div.sk-parallel-item:only-child::after {\n",
              "  width: 0;\n",
              "}\n",
              "\n",
              "/* Serial-specific style estimator block */\n",
              "\n",
              "#sk-container-id-1 div.sk-serial {\n",
              "  display: flex;\n",
              "  flex-direction: column;\n",
              "  align-items: center;\n",
              "  background-color: var(--sklearn-color-background);\n",
              "  padding-right: 1em;\n",
              "  padding-left: 1em;\n",
              "}\n",
              "\n",
              "\n",
              "/* Toggleable style: style used for estimator/Pipeline/ColumnTransformer box that is\n",
              "clickable and can be expanded/collapsed.\n",
              "- Pipeline and ColumnTransformer use this feature and define the default style\n",
              "- Estimators will overwrite some part of the style using the `sk-estimator` class\n",
              "*/\n",
              "\n",
              "/* Pipeline and ColumnTransformer style (default) */\n",
              "\n",
              "#sk-container-id-1 div.sk-toggleable {\n",
              "  /* Default theme specific background. It is overwritten whether we have a\n",
              "  specific estimator or a Pipeline/ColumnTransformer */\n",
              "  background-color: var(--sklearn-color-background);\n",
              "}\n",
              "\n",
              "/* Toggleable label */\n",
              "#sk-container-id-1 label.sk-toggleable__label {\n",
              "  cursor: pointer;\n",
              "  display: flex;\n",
              "  width: 100%;\n",
              "  margin-bottom: 0;\n",
              "  padding: 0.5em;\n",
              "  box-sizing: border-box;\n",
              "  text-align: center;\n",
              "  align-items: start;\n",
              "  justify-content: space-between;\n",
              "  gap: 0.5em;\n",
              "}\n",
              "\n",
              "#sk-container-id-1 label.sk-toggleable__label .caption {\n",
              "  font-size: 0.6rem;\n",
              "  font-weight: lighter;\n",
              "  color: var(--sklearn-color-text-muted);\n",
              "}\n",
              "\n",
              "#sk-container-id-1 label.sk-toggleable__label-arrow:before {\n",
              "  /* Arrow on the left of the label */\n",
              "  content: \"▸\";\n",
              "  float: left;\n",
              "  margin-right: 0.25em;\n",
              "  color: var(--sklearn-color-icon);\n",
              "}\n",
              "\n",
              "#sk-container-id-1 label.sk-toggleable__label-arrow:hover:before {\n",
              "  color: var(--sklearn-color-text);\n",
              "}\n",
              "\n",
              "/* Toggleable content - dropdown */\n",
              "\n",
              "#sk-container-id-1 div.sk-toggleable__content {\n",
              "  max-height: 0;\n",
              "  max-width: 0;\n",
              "  overflow: hidden;\n",
              "  text-align: left;\n",
              "  /* unfitted */\n",
              "  background-color: var(--sklearn-color-unfitted-level-0);\n",
              "}\n",
              "\n",
              "#sk-container-id-1 div.sk-toggleable__content.fitted {\n",
              "  /* fitted */\n",
              "  background-color: var(--sklearn-color-fitted-level-0);\n",
              "}\n",
              "\n",
              "#sk-container-id-1 div.sk-toggleable__content pre {\n",
              "  margin: 0.2em;\n",
              "  border-radius: 0.25em;\n",
              "  color: var(--sklearn-color-text);\n",
              "  /* unfitted */\n",
              "  background-color: var(--sklearn-color-unfitted-level-0);\n",
              "}\n",
              "\n",
              "#sk-container-id-1 div.sk-toggleable__content.fitted pre {\n",
              "  /* unfitted */\n",
              "  background-color: var(--sklearn-color-fitted-level-0);\n",
              "}\n",
              "\n",
              "#sk-container-id-1 input.sk-toggleable__control:checked~div.sk-toggleable__content {\n",
              "  /* Expand drop-down */\n",
              "  max-height: 200px;\n",
              "  max-width: 100%;\n",
              "  overflow: auto;\n",
              "}\n",
              "\n",
              "#sk-container-id-1 input.sk-toggleable__control:checked~label.sk-toggleable__label-arrow:before {\n",
              "  content: \"▾\";\n",
              "}\n",
              "\n",
              "/* Pipeline/ColumnTransformer-specific style */\n",
              "\n",
              "#sk-container-id-1 div.sk-label input.sk-toggleable__control:checked~label.sk-toggleable__label {\n",
              "  color: var(--sklearn-color-text);\n",
              "  background-color: var(--sklearn-color-unfitted-level-2);\n",
              "}\n",
              "\n",
              "#sk-container-id-1 div.sk-label.fitted input.sk-toggleable__control:checked~label.sk-toggleable__label {\n",
              "  background-color: var(--sklearn-color-fitted-level-2);\n",
              "}\n",
              "\n",
              "/* Estimator-specific style */\n",
              "\n",
              "/* Colorize estimator box */\n",
              "#sk-container-id-1 div.sk-estimator input.sk-toggleable__control:checked~label.sk-toggleable__label {\n",
              "  /* unfitted */\n",
              "  background-color: var(--sklearn-color-unfitted-level-2);\n",
              "}\n",
              "\n",
              "#sk-container-id-1 div.sk-estimator.fitted input.sk-toggleable__control:checked~label.sk-toggleable__label {\n",
              "  /* fitted */\n",
              "  background-color: var(--sklearn-color-fitted-level-2);\n",
              "}\n",
              "\n",
              "#sk-container-id-1 div.sk-label label.sk-toggleable__label,\n",
              "#sk-container-id-1 div.sk-label label {\n",
              "  /* The background is the default theme color */\n",
              "  color: var(--sklearn-color-text-on-default-background);\n",
              "}\n",
              "\n",
              "/* On hover, darken the color of the background */\n",
              "#sk-container-id-1 div.sk-label:hover label.sk-toggleable__label {\n",
              "  color: var(--sklearn-color-text);\n",
              "  background-color: var(--sklearn-color-unfitted-level-2);\n",
              "}\n",
              "\n",
              "/* Label box, darken color on hover, fitted */\n",
              "#sk-container-id-1 div.sk-label.fitted:hover label.sk-toggleable__label.fitted {\n",
              "  color: var(--sklearn-color-text);\n",
              "  background-color: var(--sklearn-color-fitted-level-2);\n",
              "}\n",
              "\n",
              "/* Estimator label */\n",
              "\n",
              "#sk-container-id-1 div.sk-label label {\n",
              "  font-family: monospace;\n",
              "  font-weight: bold;\n",
              "  display: inline-block;\n",
              "  line-height: 1.2em;\n",
              "}\n",
              "\n",
              "#sk-container-id-1 div.sk-label-container {\n",
              "  text-align: center;\n",
              "}\n",
              "\n",
              "/* Estimator-specific */\n",
              "#sk-container-id-1 div.sk-estimator {\n",
              "  font-family: monospace;\n",
              "  border: 1px dotted var(--sklearn-color-border-box);\n",
              "  border-radius: 0.25em;\n",
              "  box-sizing: border-box;\n",
              "  margin-bottom: 0.5em;\n",
              "  /* unfitted */\n",
              "  background-color: var(--sklearn-color-unfitted-level-0);\n",
              "}\n",
              "\n",
              "#sk-container-id-1 div.sk-estimator.fitted {\n",
              "  /* fitted */\n",
              "  background-color: var(--sklearn-color-fitted-level-0);\n",
              "}\n",
              "\n",
              "/* on hover */\n",
              "#sk-container-id-1 div.sk-estimator:hover {\n",
              "  /* unfitted */\n",
              "  background-color: var(--sklearn-color-unfitted-level-2);\n",
              "}\n",
              "\n",
              "#sk-container-id-1 div.sk-estimator.fitted:hover {\n",
              "  /* fitted */\n",
              "  background-color: var(--sklearn-color-fitted-level-2);\n",
              "}\n",
              "\n",
              "/* Specification for estimator info (e.g. \"i\" and \"?\") */\n",
              "\n",
              "/* Common style for \"i\" and \"?\" */\n",
              "\n",
              ".sk-estimator-doc-link,\n",
              "a:link.sk-estimator-doc-link,\n",
              "a:visited.sk-estimator-doc-link {\n",
              "  float: right;\n",
              "  font-size: smaller;\n",
              "  line-height: 1em;\n",
              "  font-family: monospace;\n",
              "  background-color: var(--sklearn-color-background);\n",
              "  border-radius: 1em;\n",
              "  height: 1em;\n",
              "  width: 1em;\n",
              "  text-decoration: none !important;\n",
              "  margin-left: 0.5em;\n",
              "  text-align: center;\n",
              "  /* unfitted */\n",
              "  border: var(--sklearn-color-unfitted-level-1) 1pt solid;\n",
              "  color: var(--sklearn-color-unfitted-level-1);\n",
              "}\n",
              "\n",
              ".sk-estimator-doc-link.fitted,\n",
              "a:link.sk-estimator-doc-link.fitted,\n",
              "a:visited.sk-estimator-doc-link.fitted {\n",
              "  /* fitted */\n",
              "  border: var(--sklearn-color-fitted-level-1) 1pt solid;\n",
              "  color: var(--sklearn-color-fitted-level-1);\n",
              "}\n",
              "\n",
              "/* On hover */\n",
              "div.sk-estimator:hover .sk-estimator-doc-link:hover,\n",
              ".sk-estimator-doc-link:hover,\n",
              "div.sk-label-container:hover .sk-estimator-doc-link:hover,\n",
              ".sk-estimator-doc-link:hover {\n",
              "  /* unfitted */\n",
              "  background-color: var(--sklearn-color-unfitted-level-3);\n",
              "  color: var(--sklearn-color-background);\n",
              "  text-decoration: none;\n",
              "}\n",
              "\n",
              "div.sk-estimator.fitted:hover .sk-estimator-doc-link.fitted:hover,\n",
              ".sk-estimator-doc-link.fitted:hover,\n",
              "div.sk-label-container:hover .sk-estimator-doc-link.fitted:hover,\n",
              ".sk-estimator-doc-link.fitted:hover {\n",
              "  /* fitted */\n",
              "  background-color: var(--sklearn-color-fitted-level-3);\n",
              "  color: var(--sklearn-color-background);\n",
              "  text-decoration: none;\n",
              "}\n",
              "\n",
              "/* Span, style for the box shown on hovering the info icon */\n",
              ".sk-estimator-doc-link span {\n",
              "  display: none;\n",
              "  z-index: 9999;\n",
              "  position: relative;\n",
              "  font-weight: normal;\n",
              "  right: .2ex;\n",
              "  padding: .5ex;\n",
              "  margin: .5ex;\n",
              "  width: min-content;\n",
              "  min-width: 20ex;\n",
              "  max-width: 50ex;\n",
              "  color: var(--sklearn-color-text);\n",
              "  box-shadow: 2pt 2pt 4pt #999;\n",
              "  /* unfitted */\n",
              "  background: var(--sklearn-color-unfitted-level-0);\n",
              "  border: .5pt solid var(--sklearn-color-unfitted-level-3);\n",
              "}\n",
              "\n",
              ".sk-estimator-doc-link.fitted span {\n",
              "  /* fitted */\n",
              "  background: var(--sklearn-color-fitted-level-0);\n",
              "  border: var(--sklearn-color-fitted-level-3);\n",
              "}\n",
              "\n",
              ".sk-estimator-doc-link:hover span {\n",
              "  display: block;\n",
              "}\n",
              "\n",
              "/* \"?\"-specific style due to the `<a>` HTML tag */\n",
              "\n",
              "#sk-container-id-1 a.estimator_doc_link {\n",
              "  float: right;\n",
              "  font-size: 1rem;\n",
              "  line-height: 1em;\n",
              "  font-family: monospace;\n",
              "  background-color: var(--sklearn-color-background);\n",
              "  border-radius: 1rem;\n",
              "  height: 1rem;\n",
              "  width: 1rem;\n",
              "  text-decoration: none;\n",
              "  /* unfitted */\n",
              "  color: var(--sklearn-color-unfitted-level-1);\n",
              "  border: var(--sklearn-color-unfitted-level-1) 1pt solid;\n",
              "}\n",
              "\n",
              "#sk-container-id-1 a.estimator_doc_link.fitted {\n",
              "  /* fitted */\n",
              "  border: var(--sklearn-color-fitted-level-1) 1pt solid;\n",
              "  color: var(--sklearn-color-fitted-level-1);\n",
              "}\n",
              "\n",
              "/* On hover */\n",
              "#sk-container-id-1 a.estimator_doc_link:hover {\n",
              "  /* unfitted */\n",
              "  background-color: var(--sklearn-color-unfitted-level-3);\n",
              "  color: var(--sklearn-color-background);\n",
              "  text-decoration: none;\n",
              "}\n",
              "\n",
              "#sk-container-id-1 a.estimator_doc_link.fitted:hover {\n",
              "  /* fitted */\n",
              "  background-color: var(--sklearn-color-fitted-level-3);\n",
              "}\n",
              "</style><div id=\"sk-container-id-1\" class=\"sk-top-container\"><div class=\"sk-text-repr-fallback\"><pre>LGBMClassifier(colsample_bytree=0.6115, learning_rate=0.01604, max_depth=10,\n",
              "               min_data_in_leaf=100, n_estimators=536, num_leaves=84,\n",
              "               random_state=42, subsample=0.9998, verbosity=-1)</pre><b>In a Jupyter environment, please rerun this cell to show the HTML representation or trust the notebook. <br />On GitHub, the HTML representation is unable to render, please try loading this page with nbviewer.org.</b></div><div class=\"sk-container\" hidden><div class=\"sk-item\"><div class=\"sk-estimator fitted sk-toggleable\"><input class=\"sk-toggleable__control sk-hidden--visually\" id=\"sk-estimator-id-1\" type=\"checkbox\" checked><label for=\"sk-estimator-id-1\" class=\"sk-toggleable__label fitted sk-toggleable__label-arrow\"><div><div>LGBMClassifier</div></div><div><span class=\"sk-estimator-doc-link fitted\">i<span>Fitted</span></span></div></label><div class=\"sk-toggleable__content fitted\"><pre>LGBMClassifier(colsample_bytree=0.6115, learning_rate=0.01604, max_depth=10,\n",
              "               min_data_in_leaf=100, n_estimators=536, num_leaves=84,\n",
              "               random_state=42, subsample=0.9998, verbosity=-1)</pre></div> </div></div></div></div>"
            ],
            "text/plain": [
              "LGBMClassifier(colsample_bytree=0.6115, learning_rate=0.01604, max_depth=10,\n",
              "               min_data_in_leaf=100, n_estimators=536, num_leaves=84,\n",
              "               random_state=42, subsample=0.9998, verbosity=-1)"
            ]
          },
          "execution_count": 23,
          "metadata": {},
          "output_type": "execute_result"
        }
      ],
      "source": [
        "# --- fit ---\n",
        "cat_model.fit(X_train, y_train)\n",
        "xgb_model.fit(X_train, y_train)\n",
        "lgbm_model.fit(X_train, y_train)"
      ]
    },
    {
      "cell_type": "code",
      "execution_count": 24,
      "id": "e2ca295c",
      "metadata": {
        "id": "e2ca295c"
      },
      "outputs": [],
      "source": [
        "w_cat, w_xgb, w_lgbm = 0.4, 0.35, 0.25"
      ]
    },
    {
      "cell_type": "code",
      "execution_count": 25,
      "id": "0cc7055b",
      "metadata": {
        "id": "0cc7055b"
      },
      "outputs": [],
      "source": [
        "cat_pred_proba = cat_model.predict_proba(X_val)\n",
        "xgb_pred_proba = xgb_model.predict_proba(X_val)\n",
        "lgbm_pred_proba = lgbm_model.predict_proba(X_val)"
      ]
    },
    {
      "cell_type": "code",
      "execution_count": 26,
      "id": "3b0878ef",
      "metadata": {
        "id": "3b0878ef"
      },
      "outputs": [],
      "source": [
        "ensemble_pred_proba = w_cat*cat_pred_proba + w_xgb*xgb_pred_proba + w_lgbm*lgbm_pred_proba\n",
        "ensemble_pred = np.argmax(ensemble_pred_proba, axis=1)"
      ]
    },
    {
      "cell_type": "code",
      "execution_count": 27,
      "id": "aa067268",
      "metadata": {
        "colab": {
          "base_uri": "https://localhost:8080/"
        },
        "id": "aa067268",
        "outputId": "bd174a65-17d2-444c-b06a-f95ed25f4390"
      },
      "outputs": [
        {
          "name": "stdout",
          "output_type": "stream",
          "text": [
            "Ensemble ACCURACY on Validation Set: 0.9174688057040998\n",
            "Ensemble PRECISION on Validation Set: 0.9177144194794824\n",
            "Ensemble RECALL on Validation Set: 0.9174688057040999\n",
            "Ensemble F1 on Validation Set: 0.9169421660073359\n"
          ]
        }
      ],
      "source": [
        "print(\"Ensemble ACCURACY on Validation Set:\", accuracy_score(y_val, ensemble_pred))\n",
        "print(\"Ensemble PRECISION on Validation Set:\", precision_score(y_val, ensemble_pred, average=\"macro\"))\n",
        "print(\"Ensemble RECALL on Validation Set:\", recall_score(y_val, ensemble_pred, average=\"macro\"))\n",
        "print(\"Ensemble F1 on Validation Set:\", f1_score(y_val, ensemble_pred, average=\"macro\"))"
      ]
    },
    {
      "cell_type": "code",
      "execution_count": 28,
      "id": "989e6a89",
      "metadata": {
        "colab": {
          "base_uri": "https://localhost:8080/"
        },
        "id": "989e6a89",
        "outputId": "55d1f4cd-09ab-4dfe-c731-be273e54e2d3"
      },
      "outputs": [
        {
          "name": "stdout",
          "output_type": "stream",
          "text": [
            "\n",
            "--- Ensemble Metrics on Test Set ---\n",
            "ACCURACY: 0.925668449197861\n",
            "PRECISION: 0.9252571434390783\n",
            "RECALL: 0.9256684491978611\n",
            "F1-SCORE: 0.9252424048385746\n"
          ]
        }
      ],
      "source": [
        "# --- Evaluate on Test Set ---\n",
        "cat_pred_proba_test = cat_model.predict_proba(X_test)\n",
        "xgb_pred_proba_test = xgb_model.predict_proba(X_test)\n",
        "lgbm_pred_proba_test = lgbm_model.predict_proba(X_test)\n",
        "\n",
        "ensemble_pred_proba_test = w_cat*cat_pred_proba_test + w_xgb*xgb_pred_proba_test + w_lgbm*lgbm_pred_proba_test\n",
        "ensemble_pred_test = np.argmax(ensemble_pred_proba_test, axis=1)\n",
        "\n",
        "print(\"\\n--- Ensemble Metrics on Test Set ---\")\n",
        "print(\"ACCURACY:\", accuracy_score(y_test, ensemble_pred_test))\n",
        "print(\"PRECISION:\", precision_score(y_test, ensemble_pred_test, average=\"macro\"))\n",
        "print(\"RECALL:\", recall_score(y_test, ensemble_pred_test, average=\"macro\"))\n",
        "print(\"F1-SCORE:\", f1_score(y_test, ensemble_pred_test, average=\"macro\"))"
      ]
    },
    {
      "cell_type": "code",
      "execution_count": 29,
      "id": "e6123d87",
      "metadata": {
        "id": "e6123d87"
      },
      "outputs": [],
      "source": [
        "# --- K-Fold OOF ensemble ---\n",
        "kf = StratifiedKFold(n_splits=20, shuffle=True, random_state=42)\n",
        "fold_acc = []"
      ]
    },
    {
      "cell_type": "code",
      "execution_count": 30,
      "id": "c6042540",
      "metadata": {
        "colab": {
          "base_uri": "https://localhost:8080/"
        },
        "id": "c6042540",
        "outputId": "5f598acb-b074-4419-cbfe-28b85f9ca0d9"
      },
      "outputs": [
        {
          "name": "stdout",
          "output_type": "stream",
          "text": [
            "Fold 1: ACC = 0.9366\n",
            "Fold 2: ACC = 0.9337\n",
            "Fold 3: ACC = 0.9380\n",
            "Fold 4: ACC = 0.9423\n",
            "Fold 5: ACC = 0.9366\n",
            "Fold 6: ACC = 0.9444\n",
            "Fold 7: ACC = 0.9344\n",
            "Fold 8: ACC = 0.9408\n",
            "Fold 9: ACC = 0.9451\n",
            "Fold 10: ACC = 0.9280\n",
            "Fold 11: ACC = 0.9429\n",
            "Fold 12: ACC = 0.9301\n",
            "Fold 13: ACC = 0.9344\n",
            "Fold 14: ACC = 0.9244\n",
            "Fold 15: ACC = 0.9486\n",
            "Fold 16: ACC = 0.9358\n",
            "Fold 17: ACC = 0.9429\n",
            "Fold 18: ACC = 0.9358\n",
            "Fold 19: ACC = 0.9408\n",
            "Fold 20: ACC = 0.9408\n"
          ]
        }
      ],
      "source": [
        "for i, (train_idx, val_idx) in enumerate(kf.split(X_resampled, y_resampled), 1):\n",
        "    X_tr, X_va = X_resampled[train_idx], X_resampled[val_idx]\n",
        "    y_tr, y_va = y_resampled[train_idx], y_resampled[val_idx]\n",
        "\n",
        "    cat_model.fit(X_tr, y_tr)\n",
        "    xgb_model.fit(X_tr, y_tr)\n",
        "    lgbm_model.fit(X_tr, y_tr)\n",
        "\n",
        "    cat_p = cat_model.predict_proba(X_va)\n",
        "    xgb_p = xgb_model.predict_proba(X_va)\n",
        "    lgbm_p = lgbm_model.predict_proba(X_va)\n",
        "\n",
        "    ensemble_p = w_cat*cat_p + w_xgb*xgb_p + w_lgbm*lgbm_p\n",
        "    ensemble_pred = np.argmax(ensemble_p, axis=1)\n",
        "\n",
        "    acc = accuracy_score(y_va, ensemble_pred)\n",
        "    fold_acc.append(acc)\n",
        "    print(f\"Fold {i}: ACC = {acc:.4f}\")"
      ]
    },
    {
      "cell_type": "code",
      "execution_count": 31,
      "id": "PGACcqSrDiSz",
      "metadata": {
        "colab": {
          "base_uri": "https://localhost:8080/"
        },
        "id": "PGACcqSrDiSz",
        "outputId": "96a082bf-1e2d-4d47-cc22-0a501b617a9d"
      },
      "outputs": [
        {
          "name": "stdout",
          "output_type": "stream",
          "text": [
            "\n",
            "--- 20-Fold Summary ---\n",
            "Best Fold ACCURACY: 0.948644793152639\n"
          ]
        }
      ],
      "source": [
        "print(\"\\n--- 20-Fold Summary ---\")\n",
        "print(\"Best Fold ACCURACY:\", np.max(fold_acc))"
      ]
    },
    {
      "cell_type": "code",
      "execution_count": null,
      "id": "44BC4OEbnFX_",
      "metadata": {
        "id": "44BC4OEbnFX_"
      },
      "outputs": [],
      "source": []
    }
  ],
  "metadata": {
    "colab": {
      "provenance": []
    },
    "jupytext": {
      "cell_metadata_filter": "-all",
      "main_language": "python",
      "notebook_metadata_filter": "-all"
    },
    "kernelspec": {
      "display_name": "Python 3",
      "name": "python3"
    },
    "language_info": {
      "name": "python"
    }
  },
  "nbformat": 4,
  "nbformat_minor": 5
}
