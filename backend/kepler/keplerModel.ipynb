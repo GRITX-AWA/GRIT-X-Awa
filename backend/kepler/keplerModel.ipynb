{
  "cells": [
    {
      "cell_type": "code",
      "source": [
        "!pip install catboost"
      ],
      "metadata": {
        "colab": {
          "base_uri": "https://localhost:8080/"
        },
        "id": "pLTrJr9PWfH3",
        "outputId": "8812cd82-b9f9-46c8-ca05-7607044b57ac"
      },
      "id": "pLTrJr9PWfH3",
      "execution_count": null,
      "outputs": [
        {
          "output_type": "stream",
          "name": "stdout",
          "text": [
            "Collecting catboost\n",
            "  Downloading catboost-1.2.8-cp312-cp312-manylinux2014_x86_64.whl.metadata (1.2 kB)\n",
            "Requirement already satisfied: graphviz in /usr/local/lib/python3.12/dist-packages (from catboost) (0.21)\n",
            "Requirement already satisfied: matplotlib in /usr/local/lib/python3.12/dist-packages (from catboost) (3.10.0)\n",
            "Requirement already satisfied: numpy<3.0,>=1.16.0 in /usr/local/lib/python3.12/dist-packages (from catboost) (2.0.2)\n",
            "Requirement already satisfied: pandas>=0.24 in /usr/local/lib/python3.12/dist-packages (from catboost) (2.2.2)\n",
            "Requirement already satisfied: scipy in /usr/local/lib/python3.12/dist-packages (from catboost) (1.16.2)\n",
            "Requirement already satisfied: plotly in /usr/local/lib/python3.12/dist-packages (from catboost) (5.24.1)\n",
            "Requirement already satisfied: six in /usr/local/lib/python3.12/dist-packages (from catboost) (1.17.0)\n",
            "Requirement already satisfied: python-dateutil>=2.8.2 in /usr/local/lib/python3.12/dist-packages (from pandas>=0.24->catboost) (2.9.0.post0)\n",
            "Requirement already satisfied: pytz>=2020.1 in /usr/local/lib/python3.12/dist-packages (from pandas>=0.24->catboost) (2025.2)\n",
            "Requirement already satisfied: tzdata>=2022.7 in /usr/local/lib/python3.12/dist-packages (from pandas>=0.24->catboost) (2025.2)\n",
            "Requirement already satisfied: contourpy>=1.0.1 in /usr/local/lib/python3.12/dist-packages (from matplotlib->catboost) (1.3.3)\n",
            "Requirement already satisfied: cycler>=0.10 in /usr/local/lib/python3.12/dist-packages (from matplotlib->catboost) (0.12.1)\n",
            "Requirement already satisfied: fonttools>=4.22.0 in /usr/local/lib/python3.12/dist-packages (from matplotlib->catboost) (4.60.0)\n",
            "Requirement already satisfied: kiwisolver>=1.3.1 in /usr/local/lib/python3.12/dist-packages (from matplotlib->catboost) (1.4.9)\n",
            "Requirement already satisfied: packaging>=20.0 in /usr/local/lib/python3.12/dist-packages (from matplotlib->catboost) (25.0)\n",
            "Requirement already satisfied: pillow>=8 in /usr/local/lib/python3.12/dist-packages (from matplotlib->catboost) (11.3.0)\n",
            "Requirement already satisfied: pyparsing>=2.3.1 in /usr/local/lib/python3.12/dist-packages (from matplotlib->catboost) (3.2.4)\n",
            "Requirement already satisfied: tenacity>=6.2.0 in /usr/local/lib/python3.12/dist-packages (from plotly->catboost) (8.5.0)\n",
            "Downloading catboost-1.2.8-cp312-cp312-manylinux2014_x86_64.whl (99.2 MB)\n",
            "\u001b[2K   \u001b[90m━━━━━━━━━━━━━━━━━━━━━━━━━━━━━━━━━━━━━━━━\u001b[0m \u001b[32m99.2/99.2 MB\u001b[0m \u001b[31m7.2 MB/s\u001b[0m eta \u001b[36m0:00:00\u001b[0m\n",
            "\u001b[?25hInstalling collected packages: catboost\n",
            "Successfully installed catboost-1.2.8\n"
          ]
        }
      ]
    },
    {
      "cell_type": "code",
      "execution_count": null,
      "id": "ca93cf97",
      "metadata": {
        "id": "ca93cf97"
      },
      "outputs": [],
      "source": [
        "import warnings\n",
        "import pandas as pd\n",
        "import numpy as np\n",
        "import matplotlib.pyplot as plt\n",
        "from sklearn.model_selection import train_test_split, StratifiedKFold\n",
        "from catboost import CatBoostClassifier\n",
        "from xgboost import XGBClassifier\n",
        "from lightgbm import LGBMClassifier\n",
        "from sklearn.metrics import (accuracy_score, f1_score, precision_score, recall_score,\n",
        "                             confusion_matrix, roc_auc_score, matthews_corrcoef)\n",
        "from sklearn.preprocessing import LabelEncoder\n",
        "from sklearn.impute import KNNImputer"
      ]
    },
    {
      "cell_type": "code",
      "execution_count": null,
      "id": "2b530276",
      "metadata": {
        "id": "2b530276"
      },
      "outputs": [],
      "source": [
        "# --- uyarıları kapatma ---\n",
        "warnings.filterwarnings(\"ignore\", category=UserWarning)\n",
        "warnings.filterwarnings(\"ignore\", category=FutureWarning)\n",
        "warnings.filterwarnings(\"ignore\", module=\"lightgbm\")"
      ]
    },
    {
      "cell_type": "code",
      "execution_count": null,
      "id": "7897e143",
      "metadata": {
        "id": "7897e143"
      },
      "outputs": [],
      "source": [
        "# --- read csv ---\n",
        "data = pd.read_csv(\"/content/kepler.csv\", comment='#')"
      ]
    },
    {
      "cell_type": "code",
      "execution_count": null,
      "id": "31468586",
      "metadata": {
        "id": "31468586"
      },
      "outputs": [],
      "source": [
        "# --- feature columns ---\n",
        "df_kp = data[['koi_disposition',\n",
        "              'koi_pdisposition', 'koi_score', 'koi_fpflag_nt', 'koi_fpflag_ss',\n",
        "              'koi_fpflag_co', 'koi_fpflag_ec', 'koi_period', 'koi_impact',\n",
        "              'koi_duration', 'koi_depth',\n",
        "              'koi_prad', 'koi_teq', 'koi_insol',\n",
        "              'koi_model_snr', 'koi_tce_plnt_num',\n",
        "              'koi_steff',\n",
        "              'koi_slogg', 'koi_srad',\n",
        "              'ra', 'dec', 'koi_kepmag']].copy() # Use .copy() to avoid SettingWithCopyWarning"
      ]
    },
    {
      "cell_type": "code",
      "source": [
        "#df_kp['label'] = df_kp['koi_disposition'].apply(lambda x: 1 if x in ['CONFIRMED'] else 0)"
      ],
      "metadata": {
        "colab": {
          "base_uri": "https://localhost:8080/"
        },
        "id": "9f6_3crCyupn",
        "outputId": "1f0337f6-cbd4-4e03-8eb0-fce52a5c7aa3"
      },
      "id": "9f6_3crCyupn",
      "execution_count": null,
      "outputs": [
        {
          "output_type": "stream",
          "name": "stderr",
          "text": [
            "/tmp/ipython-input-1795939263.py:1: SettingWithCopyWarning: \n",
            "A value is trying to be set on a copy of a slice from a DataFrame.\n",
            "Try using .loc[row_indexer,col_indexer] = value instead\n",
            "\n",
            "See the caveats in the documentation: https://pandas.pydata.org/pandas-docs/stable/user_guide/indexing.html#returning-a-view-versus-a-copy\n",
            "  df_kp['label'] = df_kp['koi_disposition'].apply(lambda x: 1 if x in ['CONFIRMED'] else 0)\n"
          ]
        }
      ]
    },
    {
      "cell_type": "code",
      "execution_count": null,
      "id": "a808bd67",
      "metadata": {
        "id": "a808bd67"
      },
      "outputs": [],
      "source": [
        "# --- label encoding ---\n",
        "le_disp = LabelEncoder()\n",
        "df_kp.loc[:, 'koi_disposition'] = le_disp.fit_transform(df_kp['koi_disposition']) # Use .loc"
      ]
    },
    {
      "cell_type": "code",
      "execution_count": null,
      "id": "100ae61d",
      "metadata": {
        "id": "100ae61d"
      },
      "outputs": [],
      "source": [
        "le_pdisp = LabelEncoder()\n",
        "df_kp.loc[:, 'koi_pdisposition'] = le_pdisp.fit_transform(df_kp['koi_pdisposition']) # Use .loc"
      ]
    },
    {
      "cell_type": "code",
      "execution_count": null,
      "id": "78b77c6d",
      "metadata": {
        "id": "78b77c6d"
      },
      "outputs": [],
      "source": [
        "# --- eksik değerleri KNNImputer ile doldurma ---\n",
        "imputer = KNNImputer(n_neighbors=5)\n",
        "X = imputer.fit_transform(df_kp.drop('koi_disposition', axis=1))\n",
        "y = df_kp['koi_disposition'].values\n",
        "#y = df_kp['label'].reset_index(drop=True)"
      ]
    },
    {
      "cell_type": "code",
      "execution_count": null,
      "id": "76dc727e",
      "metadata": {
        "id": "76dc727e"
      },
      "outputs": [],
      "source": [
        "# --- Train/Val/Test split ---\n",
        "X_trainval, X_test, y_trainval, y_test = train_test_split(\n",
        "    X, y, test_size=0.10, random_state=42, stratify=y\n",
        ")\n",
        "X_train, X_val, y_train, y_val = train_test_split(\n",
        "    X_trainval, y_trainval, test_size=2/9, random_state=42, stratify=y_trainval\n",
        ")"
      ]
    },
    {
      "cell_type": "code",
      "execution_count": null,
      "id": "19086a62",
      "metadata": {
        "colab": {
          "base_uri": "https://localhost:8080/"
        },
        "id": "19086a62",
        "outputId": "859bc42b-9882-4c28-9ada-90e3fea358d6"
      },
      "outputs": [
        {
          "output_type": "stream",
          "name": "stdout",
          "text": [
            "Train: 6694, Validation: 1913, Test: 957\n"
          ]
        }
      ],
      "source": [
        "print(f\"Train: {len(X_train)}, Validation: {len(X_val)}, Test: {len(X_test)}\")"
      ]
    },
    {
      "cell_type": "code",
      "execution_count": null,
      "id": "1185ff77",
      "metadata": {
        "lines_to_next_cell": 1,
        "id": "1185ff77"
      },
      "outputs": [],
      "source": [
        "# --- weights for Ensemble ---\n",
        "w1, w2 = 0.5931129060965006, 0.13535353285850302\n",
        "w3 = 1 - w1 - w2"
      ]
    },
    {
      "cell_type": "code",
      "execution_count": null,
      "id": "2c576965",
      "metadata": {
        "lines_to_next_cell": 1,
        "id": "2c576965"
      },
      "outputs": [],
      "source": [
        "# --- Models ---\n",
        "def get_models():\n",
        "    cat = CatBoostClassifier(\n",
        "        iterations=808,\n",
        "        learning_rate=0.011966745732207268,\n",
        "        depth=9,\n",
        "        l2_leaf_reg=5.930796491990693,\n",
        "        verbose=0,\n",
        "        random_seed=42\n",
        "    )\n",
        "    xgb = XGBClassifier(\n",
        "        n_estimators=943,\n",
        "        learning_rate=0.28470616589629755,\n",
        "        max_depth=9,\n",
        "        subsample=0.855470198198499,\n",
        "        colsample_bytree=0.7437923290340979,\n",
        "        use_label_encoder=False,\n",
        "        eval_metric='logloss',\n",
        "        random_state=42\n",
        "    )\n",
        "    lgbm = LGBMClassifier(\n",
        "        n_estimators=1395,\n",
        "        learning_rate=0.04469723749653884,\n",
        "        max_depth=7,\n",
        "        num_leaves=99,\n",
        "        min_data_in_leaf=51,\n",
        "        subsample=0.6456665591352713,\n",
        "        colsample_bytree=0.9528071000721624,\n",
        "        random_state=42,\n",
        "        verbosity=-1\n",
        "    )\n",
        "    return cat, xgb, lgbm"
      ]
    },
    {
      "cell_type": "code",
      "execution_count": null,
      "id": "fcdbb7b5",
      "metadata": {
        "colab": {
          "base_uri": "https://localhost:8080/",
          "height": 132
        },
        "id": "fcdbb7b5",
        "outputId": "b1e1dd27-783f-4727-b52c-5b8a6116ea65"
      },
      "outputs": [
        {
          "output_type": "execute_result",
          "data": {
            "text/plain": [
              "LGBMClassifier(colsample_bytree=0.9528071000721624,\n",
              "               learning_rate=0.04469723749653884, max_depth=7,\n",
              "               min_data_in_leaf=51, n_estimators=1395, num_leaves=99,\n",
              "               random_state=42, subsample=0.6456665591352713, verbosity=-1)"
            ],
            "text/html": [
              "<style>#sk-container-id-2 {\n",
              "  /* Definition of color scheme common for light and dark mode */\n",
              "  --sklearn-color-text: #000;\n",
              "  --sklearn-color-text-muted: #666;\n",
              "  --sklearn-color-line: gray;\n",
              "  /* Definition of color scheme for unfitted estimators */\n",
              "  --sklearn-color-unfitted-level-0: #fff5e6;\n",
              "  --sklearn-color-unfitted-level-1: #f6e4d2;\n",
              "  --sklearn-color-unfitted-level-2: #ffe0b3;\n",
              "  --sklearn-color-unfitted-level-3: chocolate;\n",
              "  /* Definition of color scheme for fitted estimators */\n",
              "  --sklearn-color-fitted-level-0: #f0f8ff;\n",
              "  --sklearn-color-fitted-level-1: #d4ebff;\n",
              "  --sklearn-color-fitted-level-2: #b3dbfd;\n",
              "  --sklearn-color-fitted-level-3: cornflowerblue;\n",
              "\n",
              "  /* Specific color for light theme */\n",
              "  --sklearn-color-text-on-default-background: var(--sg-text-color, var(--theme-code-foreground, var(--jp-content-font-color1, black)));\n",
              "  --sklearn-color-background: var(--sg-background-color, var(--theme-background, var(--jp-layout-color0, white)));\n",
              "  --sklearn-color-border-box: var(--sg-text-color, var(--theme-code-foreground, var(--jp-content-font-color1, black)));\n",
              "  --sklearn-color-icon: #696969;\n",
              "\n",
              "  @media (prefers-color-scheme: dark) {\n",
              "    /* Redefinition of color scheme for dark theme */\n",
              "    --sklearn-color-text-on-default-background: var(--sg-text-color, var(--theme-code-foreground, var(--jp-content-font-color1, white)));\n",
              "    --sklearn-color-background: var(--sg-background-color, var(--theme-background, var(--jp-layout-color0, #111)));\n",
              "    --sklearn-color-border-box: var(--sg-text-color, var(--theme-code-foreground, var(--jp-content-font-color1, white)));\n",
              "    --sklearn-color-icon: #878787;\n",
              "  }\n",
              "}\n",
              "\n",
              "#sk-container-id-2 {\n",
              "  color: var(--sklearn-color-text);\n",
              "}\n",
              "\n",
              "#sk-container-id-2 pre {\n",
              "  padding: 0;\n",
              "}\n",
              "\n",
              "#sk-container-id-2 input.sk-hidden--visually {\n",
              "  border: 0;\n",
              "  clip: rect(1px 1px 1px 1px);\n",
              "  clip: rect(1px, 1px, 1px, 1px);\n",
              "  height: 1px;\n",
              "  margin: -1px;\n",
              "  overflow: hidden;\n",
              "  padding: 0;\n",
              "  position: absolute;\n",
              "  width: 1px;\n",
              "}\n",
              "\n",
              "#sk-container-id-2 div.sk-dashed-wrapped {\n",
              "  border: 1px dashed var(--sklearn-color-line);\n",
              "  margin: 0 0.4em 0.5em 0.4em;\n",
              "  box-sizing: border-box;\n",
              "  padding-bottom: 0.4em;\n",
              "  background-color: var(--sklearn-color-background);\n",
              "}\n",
              "\n",
              "#sk-container-id-2 div.sk-container {\n",
              "  /* jupyter's `normalize.less` sets `[hidden] { display: none; }`\n",
              "     but bootstrap.min.css set `[hidden] { display: none !important; }`\n",
              "     so we also need the `!important` here to be able to override the\n",
              "     default hidden behavior on the sphinx rendered scikit-learn.org.\n",
              "     See: https://github.com/scikit-learn/scikit-learn/issues/21755 */\n",
              "  display: inline-block !important;\n",
              "  position: relative;\n",
              "}\n",
              "\n",
              "#sk-container-id-2 div.sk-text-repr-fallback {\n",
              "  display: none;\n",
              "}\n",
              "\n",
              "div.sk-parallel-item,\n",
              "div.sk-serial,\n",
              "div.sk-item {\n",
              "  /* draw centered vertical line to link estimators */\n",
              "  background-image: linear-gradient(var(--sklearn-color-text-on-default-background), var(--sklearn-color-text-on-default-background));\n",
              "  background-size: 2px 100%;\n",
              "  background-repeat: no-repeat;\n",
              "  background-position: center center;\n",
              "}\n",
              "\n",
              "/* Parallel-specific style estimator block */\n",
              "\n",
              "#sk-container-id-2 div.sk-parallel-item::after {\n",
              "  content: \"\";\n",
              "  width: 100%;\n",
              "  border-bottom: 2px solid var(--sklearn-color-text-on-default-background);\n",
              "  flex-grow: 1;\n",
              "}\n",
              "\n",
              "#sk-container-id-2 div.sk-parallel {\n",
              "  display: flex;\n",
              "  align-items: stretch;\n",
              "  justify-content: center;\n",
              "  background-color: var(--sklearn-color-background);\n",
              "  position: relative;\n",
              "}\n",
              "\n",
              "#sk-container-id-2 div.sk-parallel-item {\n",
              "  display: flex;\n",
              "  flex-direction: column;\n",
              "}\n",
              "\n",
              "#sk-container-id-2 div.sk-parallel-item:first-child::after {\n",
              "  align-self: flex-end;\n",
              "  width: 50%;\n",
              "}\n",
              "\n",
              "#sk-container-id-2 div.sk-parallel-item:last-child::after {\n",
              "  align-self: flex-start;\n",
              "  width: 50%;\n",
              "}\n",
              "\n",
              "#sk-container-id-2 div.sk-parallel-item:only-child::after {\n",
              "  width: 0;\n",
              "}\n",
              "\n",
              "/* Serial-specific style estimator block */\n",
              "\n",
              "#sk-container-id-2 div.sk-serial {\n",
              "  display: flex;\n",
              "  flex-direction: column;\n",
              "  align-items: center;\n",
              "  background-color: var(--sklearn-color-background);\n",
              "  padding-right: 1em;\n",
              "  padding-left: 1em;\n",
              "}\n",
              "\n",
              "\n",
              "/* Toggleable style: style used for estimator/Pipeline/ColumnTransformer box that is\n",
              "clickable and can be expanded/collapsed.\n",
              "- Pipeline and ColumnTransformer use this feature and define the default style\n",
              "- Estimators will overwrite some part of the style using the `sk-estimator` class\n",
              "*/\n",
              "\n",
              "/* Pipeline and ColumnTransformer style (default) */\n",
              "\n",
              "#sk-container-id-2 div.sk-toggleable {\n",
              "  /* Default theme specific background. It is overwritten whether we have a\n",
              "  specific estimator or a Pipeline/ColumnTransformer */\n",
              "  background-color: var(--sklearn-color-background);\n",
              "}\n",
              "\n",
              "/* Toggleable label */\n",
              "#sk-container-id-2 label.sk-toggleable__label {\n",
              "  cursor: pointer;\n",
              "  display: flex;\n",
              "  width: 100%;\n",
              "  margin-bottom: 0;\n",
              "  padding: 0.5em;\n",
              "  box-sizing: border-box;\n",
              "  text-align: center;\n",
              "  align-items: start;\n",
              "  justify-content: space-between;\n",
              "  gap: 0.5em;\n",
              "}\n",
              "\n",
              "#sk-container-id-2 label.sk-toggleable__label .caption {\n",
              "  font-size: 0.6rem;\n",
              "  font-weight: lighter;\n",
              "  color: var(--sklearn-color-text-muted);\n",
              "}\n",
              "\n",
              "#sk-container-id-2 label.sk-toggleable__label-arrow:before {\n",
              "  /* Arrow on the left of the label */\n",
              "  content: \"▸\";\n",
              "  float: left;\n",
              "  margin-right: 0.25em;\n",
              "  color: var(--sklearn-color-icon);\n",
              "}\n",
              "\n",
              "#sk-container-id-2 label.sk-toggleable__label-arrow:hover:before {\n",
              "  color: var(--sklearn-color-text);\n",
              "}\n",
              "\n",
              "/* Toggleable content - dropdown */\n",
              "\n",
              "#sk-container-id-2 div.sk-toggleable__content {\n",
              "  max-height: 0;\n",
              "  max-width: 0;\n",
              "  overflow: hidden;\n",
              "  text-align: left;\n",
              "  /* unfitted */\n",
              "  background-color: var(--sklearn-color-unfitted-level-0);\n",
              "}\n",
              "\n",
              "#sk-container-id-2 div.sk-toggleable__content.fitted {\n",
              "  /* fitted */\n",
              "  background-color: var(--sklearn-color-fitted-level-0);\n",
              "}\n",
              "\n",
              "#sk-container-id-2 div.sk-toggleable__content pre {\n",
              "  margin: 0.2em;\n",
              "  border-radius: 0.25em;\n",
              "  color: var(--sklearn-color-text);\n",
              "  /* unfitted */\n",
              "  background-color: var(--sklearn-color-unfitted-level-0);\n",
              "}\n",
              "\n",
              "#sk-container-id-2 div.sk-toggleable__content.fitted pre {\n",
              "  /* unfitted */\n",
              "  background-color: var(--sklearn-color-fitted-level-0);\n",
              "}\n",
              "\n",
              "#sk-container-id-2 input.sk-toggleable__control:checked~div.sk-toggleable__content {\n",
              "  /* Expand drop-down */\n",
              "  max-height: 200px;\n",
              "  max-width: 100%;\n",
              "  overflow: auto;\n",
              "}\n",
              "\n",
              "#sk-container-id-2 input.sk-toggleable__control:checked~label.sk-toggleable__label-arrow:before {\n",
              "  content: \"▾\";\n",
              "}\n",
              "\n",
              "/* Pipeline/ColumnTransformer-specific style */\n",
              "\n",
              "#sk-container-id-2 div.sk-label input.sk-toggleable__control:checked~label.sk-toggleable__label {\n",
              "  color: var(--sklearn-color-text);\n",
              "  background-color: var(--sklearn-color-unfitted-level-2);\n",
              "}\n",
              "\n",
              "#sk-container-id-2 div.sk-label.fitted input.sk-toggleable__control:checked~label.sk-toggleable__label {\n",
              "  background-color: var(--sklearn-color-fitted-level-2);\n",
              "}\n",
              "\n",
              "/* Estimator-specific style */\n",
              "\n",
              "/* Colorize estimator box */\n",
              "#sk-container-id-2 div.sk-estimator input.sk-toggleable__control:checked~label.sk-toggleable__label {\n",
              "  /* unfitted */\n",
              "  background-color: var(--sklearn-color-unfitted-level-2);\n",
              "}\n",
              "\n",
              "#sk-container-id-2 div.sk-estimator.fitted input.sk-toggleable__control:checked~label.sk-toggleable__label {\n",
              "  /* fitted */\n",
              "  background-color: var(--sklearn-color-fitted-level-2);\n",
              "}\n",
              "\n",
              "#sk-container-id-2 div.sk-label label.sk-toggleable__label,\n",
              "#sk-container-id-2 div.sk-label label {\n",
              "  /* The background is the default theme color */\n",
              "  color: var(--sklearn-color-text-on-default-background);\n",
              "}\n",
              "\n",
              "/* On hover, darken the color of the background */\n",
              "#sk-container-id-2 div.sk-label:hover label.sk-toggleable__label {\n",
              "  color: var(--sklearn-color-text);\n",
              "  background-color: var(--sklearn-color-unfitted-level-2);\n",
              "}\n",
              "\n",
              "/* Label box, darken color on hover, fitted */\n",
              "#sk-container-id-2 div.sk-label.fitted:hover label.sk-toggleable__label.fitted {\n",
              "  color: var(--sklearn-color-text);\n",
              "  background-color: var(--sklearn-color-fitted-level-2);\n",
              "}\n",
              "\n",
              "/* Estimator label */\n",
              "\n",
              "#sk-container-id-2 div.sk-label label {\n",
              "  font-family: monospace;\n",
              "  font-weight: bold;\n",
              "  display: inline-block;\n",
              "  line-height: 1.2em;\n",
              "}\n",
              "\n",
              "#sk-container-id-2 div.sk-label-container {\n",
              "  text-align: center;\n",
              "}\n",
              "\n",
              "/* Estimator-specific */\n",
              "#sk-container-id-2 div.sk-estimator {\n",
              "  font-family: monospace;\n",
              "  border: 1px dotted var(--sklearn-color-border-box);\n",
              "  border-radius: 0.25em;\n",
              "  box-sizing: border-box;\n",
              "  margin-bottom: 0.5em;\n",
              "  /* unfitted */\n",
              "  background-color: var(--sklearn-color-unfitted-level-0);\n",
              "}\n",
              "\n",
              "#sk-container-id-2 div.sk-estimator.fitted {\n",
              "  /* fitted */\n",
              "  background-color: var(--sklearn-color-fitted-level-0);\n",
              "}\n",
              "\n",
              "/* on hover */\n",
              "#sk-container-id-2 div.sk-estimator:hover {\n",
              "  /* unfitted */\n",
              "  background-color: var(--sklearn-color-unfitted-level-2);\n",
              "}\n",
              "\n",
              "#sk-container-id-2 div.sk-estimator.fitted:hover {\n",
              "  /* fitted */\n",
              "  background-color: var(--sklearn-color-fitted-level-2);\n",
              "}\n",
              "\n",
              "/* Specification for estimator info (e.g. \"i\" and \"?\") */\n",
              "\n",
              "/* Common style for \"i\" and \"?\" */\n",
              "\n",
              ".sk-estimator-doc-link,\n",
              "a:link.sk-estimator-doc-link,\n",
              "a:visited.sk-estimator-doc-link {\n",
              "  float: right;\n",
              "  font-size: smaller;\n",
              "  line-height: 1em;\n",
              "  font-family: monospace;\n",
              "  background-color: var(--sklearn-color-background);\n",
              "  border-radius: 1em;\n",
              "  height: 1em;\n",
              "  width: 1em;\n",
              "  text-decoration: none !important;\n",
              "  margin-left: 0.5em;\n",
              "  text-align: center;\n",
              "  /* unfitted */\n",
              "  border: var(--sklearn-color-unfitted-level-1) 1pt solid;\n",
              "  color: var(--sklearn-color-unfitted-level-1);\n",
              "}\n",
              "\n",
              ".sk-estimator-doc-link.fitted,\n",
              "a:link.sk-estimator-doc-link.fitted,\n",
              "a:visited.sk-estimator-doc-link.fitted {\n",
              "  /* fitted */\n",
              "  border: var(--sklearn-color-fitted-level-1) 1pt solid;\n",
              "  color: var(--sklearn-color-fitted-level-1);\n",
              "}\n",
              "\n",
              "/* On hover */\n",
              "div.sk-estimator:hover .sk-estimator-doc-link:hover,\n",
              ".sk-estimator-doc-link:hover,\n",
              "div.sk-label-container:hover .sk-estimator-doc-link:hover,\n",
              ".sk-estimator-doc-link:hover {\n",
              "  /* unfitted */\n",
              "  background-color: var(--sklearn-color-unfitted-level-3);\n",
              "  color: var(--sklearn-color-background);\n",
              "  text-decoration: none;\n",
              "}\n",
              "\n",
              "div.sk-estimator.fitted:hover .sk-estimator-doc-link.fitted:hover,\n",
              ".sk-estimator-doc-link.fitted:hover,\n",
              "div.sk-label-container:hover .sk-estimator-doc-link.fitted:hover,\n",
              ".sk-estimator-doc-link.fitted:hover {\n",
              "  /* fitted */\n",
              "  background-color: var(--sklearn-color-fitted-level-3);\n",
              "  color: var(--sklearn-color-background);\n",
              "  text-decoration: none;\n",
              "}\n",
              "\n",
              "/* Span, style for the box shown on hovering the info icon */\n",
              ".sk-estimator-doc-link span {\n",
              "  display: none;\n",
              "  z-index: 9999;\n",
              "  position: relative;\n",
              "  font-weight: normal;\n",
              "  right: .2ex;\n",
              "  padding: .5ex;\n",
              "  margin: .5ex;\n",
              "  width: min-content;\n",
              "  min-width: 20ex;\n",
              "  max-width: 50ex;\n",
              "  color: var(--sklearn-color-text);\n",
              "  box-shadow: 2pt 2pt 4pt #999;\n",
              "  /* unfitted */\n",
              "  background: var(--sklearn-color-unfitted-level-0);\n",
              "  border: .5pt solid var(--sklearn-color-unfitted-level-3);\n",
              "}\n",
              "\n",
              ".sk-estimator-doc-link.fitted span {\n",
              "  /* fitted */\n",
              "  background: var(--sklearn-color-fitted-level-0);\n",
              "  border: var(--sklearn-color-fitted-level-3);\n",
              "}\n",
              "\n",
              ".sk-estimator-doc-link:hover span {\n",
              "  display: block;\n",
              "}\n",
              "\n",
              "/* \"?\"-specific style due to the `<a>` HTML tag */\n",
              "\n",
              "#sk-container-id-2 a.estimator_doc_link {\n",
              "  float: right;\n",
              "  font-size: 1rem;\n",
              "  line-height: 1em;\n",
              "  font-family: monospace;\n",
              "  background-color: var(--sklearn-color-background);\n",
              "  border-radius: 1rem;\n",
              "  height: 1rem;\n",
              "  width: 1rem;\n",
              "  text-decoration: none;\n",
              "  /* unfitted */\n",
              "  color: var(--sklearn-color-unfitted-level-1);\n",
              "  border: var(--sklearn-color-unfitted-level-1) 1pt solid;\n",
              "}\n",
              "\n",
              "#sk-container-id-2 a.estimator_doc_link.fitted {\n",
              "  /* fitted */\n",
              "  border: var(--sklearn-color-fitted-level-1) 1pt solid;\n",
              "  color: var(--sklearn-color-fitted-level-1);\n",
              "}\n",
              "\n",
              "/* On hover */\n",
              "#sk-container-id-2 a.estimator_doc_link:hover {\n",
              "  /* unfitted */\n",
              "  background-color: var(--sklearn-color-unfitted-level-3);\n",
              "  color: var(--sklearn-color-background);\n",
              "  text-decoration: none;\n",
              "}\n",
              "\n",
              "#sk-container-id-2 a.estimator_doc_link.fitted:hover {\n",
              "  /* fitted */\n",
              "  background-color: var(--sklearn-color-fitted-level-3);\n",
              "}\n",
              "</style><div id=\"sk-container-id-2\" class=\"sk-top-container\"><div class=\"sk-text-repr-fallback\"><pre>LGBMClassifier(colsample_bytree=0.9528071000721624,\n",
              "               learning_rate=0.04469723749653884, max_depth=7,\n",
              "               min_data_in_leaf=51, n_estimators=1395, num_leaves=99,\n",
              "               random_state=42, subsample=0.6456665591352713, verbosity=-1)</pre><b>In a Jupyter environment, please rerun this cell to show the HTML representation or trust the notebook. <br />On GitHub, the HTML representation is unable to render, please try loading this page with nbviewer.org.</b></div><div class=\"sk-container\" hidden><div class=\"sk-item\"><div class=\"sk-estimator fitted sk-toggleable\"><input class=\"sk-toggleable__control sk-hidden--visually\" id=\"sk-estimator-id-2\" type=\"checkbox\" checked><label for=\"sk-estimator-id-2\" class=\"sk-toggleable__label fitted sk-toggleable__label-arrow\"><div><div>LGBMClassifier</div></div><div><span class=\"sk-estimator-doc-link fitted\">i<span>Fitted</span></span></div></label><div class=\"sk-toggleable__content fitted\"><pre>LGBMClassifier(colsample_bytree=0.9528071000721624,\n",
              "               learning_rate=0.04469723749653884, max_depth=7,\n",
              "               min_data_in_leaf=51, n_estimators=1395, num_leaves=99,\n",
              "               random_state=42, subsample=0.6456665591352713, verbosity=-1)</pre></div> </div></div></div></div>"
            ]
          },
          "metadata": {},
          "execution_count": 32
        }
      ],
      "source": [
        "# --- Train fit ---\n",
        "cat_model, xgb_model, lgbm_model = get_models()\n",
        "cat_model.fit(X_train, y_train)\n",
        "xgb_model.fit(X_train, y_train)\n",
        "lgbm_model.fit(X_train, y_train)"
      ]
    },
    {
      "cell_type": "code",
      "execution_count": null,
      "id": "ec2f20cf",
      "metadata": {
        "id": "ec2f20cf"
      },
      "outputs": [],
      "source": [
        "# --- Validation Ensemble ---\n",
        "cat_val = cat_model.predict_proba(X_val)\n",
        "xgb_val = xgb_model.predict_proba(X_val)\n",
        "lgbm_val = lgbm_model.predict_proba(X_val)"
      ]
    },
    {
      "cell_type": "code",
      "execution_count": null,
      "id": "2635c2a0",
      "metadata": {
        "id": "2635c2a0"
      },
      "outputs": [],
      "source": [
        "ensemble_val = (w1 * cat_val + w2 * xgb_val + w3 * lgbm_val)\n",
        "ensemble_val_pred = np.argmax(ensemble_val, axis=1)"
      ]
    },
    {
      "cell_type": "code",
      "execution_count": null,
      "id": "b5029e5b",
      "metadata": {
        "colab": {
          "base_uri": "https://localhost:8080/"
        },
        "id": "b5029e5b",
        "outputId": "e3843757-33eb-4802-c819-0279c63a72f0"
      },
      "outputs": [
        {
          "output_type": "stream",
          "name": "stdout",
          "text": [
            "\n",
            "--- VALIDATION SONUÇLARI ---\n",
            "Accuracy: 0.9309984317825405\n",
            "Precision: 0.9065907633574265\n",
            "Recall: 0.9027577062226838\n",
            "F1: 0.9044297888267913\n",
            "ROC-AUC: 0.9854024512387364\n",
            "MCC: 0.8884527234047136\n",
            "Confusion Matrix:\n",
            " [[322  74   0]\n",
            " [ 55 492   2]\n",
            " [  0   1 967]]\n"
          ]
        }
      ],
      "source": [
        "print(\"\\n--- VALIDATION SONUÇLARI ---\")\n",
        "print(\"Accuracy:\", accuracy_score(y_val, ensemble_val_pred))\n",
        "print(\"Precision:\", precision_score(y_val, ensemble_val_pred, average=\"macro\"))\n",
        "print(\"Recall:\", recall_score(y_val, ensemble_val_pred, average=\"macro\"))\n",
        "print(\"F1:\", f1_score(y_val, ensemble_val_pred, average=\"macro\"))\n",
        "print(\"ROC-AUC:\", roc_auc_score(y_val, ensemble_val, multi_class=\"ovr\"))\n",
        "#print(\"ROC-AUC:\", roc_auc_score(y_val, ensemble_val[:, 1]))\n",
        "print(\"MCC:\", matthews_corrcoef(y_val, ensemble_val_pred))\n",
        "print(\"Confusion Matrix:\\n\", confusion_matrix(y_val, ensemble_val_pred))\n"
      ]
    },
    {
      "cell_type": "code",
      "execution_count": null,
      "id": "2bf7f6f6",
      "metadata": {
        "id": "2bf7f6f6"
      },
      "outputs": [],
      "source": [
        "# --- Test Ensemble ---\n",
        "cat_test = cat_model.predict_proba(X_test)\n",
        "xgb_test = xgb_model.predict_proba(X_test)\n",
        "lgbm_test = lgbm_model.predict_proba(X_test)"
      ]
    },
    {
      "cell_type": "code",
      "execution_count": null,
      "id": "ce53acac",
      "metadata": {
        "id": "ce53acac"
      },
      "outputs": [],
      "source": [
        "ensemble_test = (w1 * cat_test + w2 * xgb_test + w3 * lgbm_test)\n",
        "ensemble_test_pred = np.argmax(ensemble_test, axis=1)"
      ]
    },
    {
      "cell_type": "code",
      "execution_count": null,
      "id": "79d69f5d",
      "metadata": {
        "colab": {
          "base_uri": "https://localhost:8080/"
        },
        "id": "79d69f5d",
        "outputId": "c9593cb2-236b-4b29-c47d-7916346e1263"
      },
      "outputs": [
        {
          "output_type": "stream",
          "name": "stdout",
          "text": [
            "\n",
            "--- TEST SONUÇLARI ---\n",
            "Accuracy: 0.9393939393939394\n",
            "F1: 0.9155242705292589\n",
            "ROC-AUC: 0.9880335392401354\n"
          ]
        }
      ],
      "source": [
        "print(\"\\n--- TEST SONUÇLARI ---\")\n",
        "print(\"Accuracy:\", accuracy_score(y_test, ensemble_test_pred))\n",
        "print(\"F1:\", f1_score(y_test, ensemble_test_pred, average=\"macro\"))\n",
        "print(\"ROC-AUC:\", roc_auc_score(y_test, ensemble_test, multi_class=\"ovr\"))"
      ]
    },
    {
      "cell_type": "code",
      "execution_count": null,
      "id": "004b0c56",
      "metadata": {
        "id": "004b0c56"
      },
      "outputs": [],
      "source": [
        "# --- 20-Fold Ensemble Cross Validation ---\n",
        "kf = StratifiedKFold(n_splits=20, shuffle=True, random_state=42)\n",
        "fold_acc = []"
      ]
    },
    {
      "cell_type": "code",
      "execution_count": null,
      "id": "bc15bb20",
      "metadata": {
        "colab": {
          "base_uri": "https://localhost:8080/"
        },
        "id": "bc15bb20",
        "outputId": "9dccf573-6640-4318-d91d-cb9035a5a6b8"
      },
      "outputs": [
        {
          "output_type": "stream",
          "name": "stdout",
          "text": [
            "\n",
            "--- 20-Fold Ensemble Cross Validation ---\n",
            "Fold 1: ACC = 0.9353\n",
            "Fold 2: ACC = 0.9395\n",
            "Fold 3: ACC = 0.9395\n",
            "Fold 4: ACC = 0.9582\n",
            "Fold 5: ACC = 0.9289\n",
            "Fold 6: ACC = 0.9477\n",
            "Fold 7: ACC = 0.9435\n",
            "Fold 8: ACC = 0.9331\n",
            "Fold 9: ACC = 0.9163\n",
            "Fold 10: ACC = 0.9519\n",
            "Fold 11: ACC = 0.9435\n",
            "Fold 12: ACC = 0.9561\n",
            "Fold 13: ACC = 0.9456\n",
            "Fold 14: ACC = 0.9289\n",
            "Fold 15: ACC = 0.9310\n",
            "Fold 16: ACC = 0.9331\n",
            "Fold 17: ACC = 0.9247\n",
            "Fold 18: ACC = 0.9331\n",
            "Fold 19: ACC = 0.9519\n",
            "Fold 20: ACC = 0.9205\n"
          ]
        }
      ],
      "source": [
        "print(\"\\n--- 20-Fold Ensemble Cross Validation ---\")\n",
        "for i, (train_idx, val_idx) in enumerate(kf.split(X, y), 1):\n",
        "    X_tr, X_va = X[train_idx], X[val_idx]\n",
        "    y_tr, y_va = y[train_idx], y[val_idx]\n",
        "\n",
        "    cat, xgb, lgbm = get_models()\n",
        "    cat.fit(X_tr, y_tr)\n",
        "    xgb.fit(X_tr, y_tr)\n",
        "    lgbm.fit(X_tr, y_tr)\n",
        "\n",
        "    cat_p = cat.predict_proba(X_va)\n",
        "    xgb_p = xgb.predict_proba(X_va)\n",
        "    lgbm_p = lgbm.predict_proba(X_va)\n",
        "\n",
        "    ensemble_p = (w1 * cat_p + w2 * xgb_p + w3 * lgbm_p)\n",
        "    ensemble_pred = np.argmax(ensemble_p, axis=1)\n",
        "\n",
        "    acc = accuracy_score(y_va, ensemble_pred)\n",
        "    fold_acc.append(acc)\n",
        "    print(f\"Fold {i}: ACC = {acc:.4f}\")"
      ]
    },
    {
      "cell_type": "code",
      "metadata": {
        "colab": {
          "base_uri": "https://localhost:8080/"
        },
        "id": "8253e9a0",
        "outputId": "87486ff4-53c3-4b84-9522-d23be5fa3f94"
      },
      "source": [
        "import pickle\n",
        "\n",
        "# Assuming 'cat_model', 'xgb_model', and 'lgbm_model' are your trained models\n",
        "ensemble_models = {\n",
        "    'catboost': cat_model,\n",
        "    'xgboost': xgb_model,\n",
        "    'lightgbm': lgbm_model,\n",
        "    'weights': (w1, w2, w3) # Include weights if needed for prediction\n",
        "}\n",
        "\n",
        "with open('ensemble_model.pkl', 'wb') as f:\n",
        "    pickle.dump(ensemble_models, f)\n",
        "\n",
        "print(\"Ensemble model saved as ensemble_model.pkl\")"
      ],
      "id": "8253e9a0",
      "execution_count": null,
      "outputs": [
        {
          "output_type": "stream",
          "name": "stdout",
          "text": [
            "Ensemble model saved as ensemble_model.pkl\n"
          ]
        }
      ]
    },
    {
      "cell_type": "code",
      "execution_count": null,
      "id": "4efd1707",
      "metadata": {
        "colab": {
          "base_uri": "https://localhost:8080/"
        },
        "id": "4efd1707",
        "outputId": "f2529c62-0ae8-41b3-aa4f-3f24939aa15c"
      },
      "outputs": [
        {
          "output_type": "stream",
          "name": "stdout",
          "text": [
            "\n",
            "--- K-Fold Summary ---\n",
            "Average ACCURACY: 0.9380991168840245\n",
            "Best Fold ACCURACY: 0.9582463465553236\n"
          ]
        }
      ],
      "source": [
        "print(\"\\n--- K-Fold Summary ---\")\n",
        "print(\"Average ACCURACY:\", np.mean(fold_acc))\n",
        "print(\"Best Fold ACCURACY:\", np.max(fold_acc))"
      ]
    },
    {
      "cell_type": "code",
      "execution_count": null,
      "id": "84fa8d4d",
      "metadata": {
        "colab": {
          "base_uri": "https://localhost:8080/",
          "height": 342
        },
        "id": "84fa8d4d",
        "outputId": "40d19fd2-6f6a-4fd7-afdd-a5bbfc6812e3"
      },
      "outputs": [
        {
          "output_type": "display_data",
          "data": {
            "text/plain": [
              "<Figure size 1000x500 with 1 Axes>"
            ],
            "image/png": "[encoded data removed]"
          },
          "metadata": {}
        }
      ],
      "source": [
        "# --- K-Fold graph ---\n",
        "plt.figure(figsize=(10,5))\n",
        "plt.plot(range(1, 21), fold_acc, marker='o')\n",
        "plt.title(\"20-Fold Cross Validation Accuracy (Ensemble)\")\n",
        "plt.xlabel(\"Fold\")\n",
        "plt.ylabel(\"Accuracy\")\n",
        "plt.grid(True)\n",
        "plt.show()"
      ]
    },
    {
      "cell_type": "code",
      "source": [],
      "metadata": {
        "id": "do5rVttskUG-"
      },
      "id": "do5rVttskUG-",
      "execution_count": null,
      "outputs": []
    },
    {
      "cell_type": "code",
      "source": [],
      "metadata": {
        "id": "dbhmd07Ip8qk"
      },
      "id": "dbhmd07Ip8qk",
      "execution_count": null,
      "outputs": []
    }
  ],
  "metadata": {
    "jupytext": {
      "cell_metadata_filter": "-all",
      "main_language": "python",
      "notebook_metadata_filter": "-all"
    },
    "colab": {
      "provenance": []
    },
    "language_info": {
      "name": "python"
    },
    "kernelspec": {
      "name": "python3",
      "display_name": "Python 3"
    }
  },
  "nbformat": 4,
  "nbformat_minor": 5
}